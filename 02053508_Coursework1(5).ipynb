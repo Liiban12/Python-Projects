{
 "cells": [
  {
   "cell_type": "markdown",
   "metadata": {
    "id": "Cb_IWF6UQRGk"
   },
   "source": [
    "# Coursework 1 - Supervised learning\n",
    "\n",
    "**Replace CID in the file name with your CID**"
   ]
  },
  {
   "cell_type": "markdown",
   "metadata": {
    "id": "yTeLZnrzE0Wy"
   },
   "source": [
    "# Outline\n",
    "\n",
    "\n",
    "- [Task 1](#task-1): Regression <a name=\"index-task-1\"></a>\n",
    "  - [(1.1)](#task-11) Random Forest <a name=\"index-task-11\"></a>\n",
    "    - [(1.1.1)](#task-111) <a name=\"index-task-111\"></a>\n",
    "    - [(1.1.2)](#task-112) <a name=\"index-task-112\"></a>\n",
    "    - [(1.1.3)](#task-113) <a name=\"index-task-113\"></a>\n",
    "  - [(1.2)](#task-12) Multi-layer Perceptron <a name=\"index-task-12\"></a>\n",
    "    - [(1.2.1)](#task-121) <a name=\"index-task-121\"></a>\n",
    "    - [(1.2.2)](#task-122) <a name=\"index-task-122\"></a>\n",
    "    - [(1.2.3)](#task-123) <a name=\"index-task-123\"></a>\n",
    "- [Task 2](#task-2): Classification <a name=\"index-task-2\"></a>\n",
    "  - [(2.1)](#task-21) k-Nearest Neighbours <a name=\"index-task-21\"></a>\n",
    "    - [(2.1.1)](#task-211)  <a name=\"index-task-211\"></a>\n",
    "    - [(2.1.2)](#task-212) <a name=\"index-task-212\"></a>\n",
    "    - [(2.1.3)](#task-213) <a name=\"index-task-213\"></a>\n",
    "  - [(2.2)](#task-22) Logistic regression vs kernel logistic regression <a name=\"index-task-22\"></a>\n",
    "    - [(2.2.1)](#task-221) <a name=\"index-task-221\"></a>\n",
    "    - [(2.2.2)](#task-222) <a name=\"index-task-222\"></a>\n",
    "    - [(2.2.3)](#task-223) <a name=\"index-task-223\"></a>"
   ]
  },
  {
   "cell_type": "markdown",
   "metadata": {
    "id": "V4LmL6R9N1B-"
   },
   "source": [
    "\n",
    "\n",
    "---\n",
    "\n"
   ]
  },
  {
   "cell_type": "code",
   "execution_count": 1,
   "metadata": {},
   "outputs": [],
   "source": [
    "import pandas as pd\n",
    "import numpy as np\n",
    "import matplotlib.pyplot as plt\n",
    "import seaborn as sns\n",
    "from tqdm.notebook import tqdm"
   ]
  },
  {
   "cell_type": "markdown",
   "metadata": {
    "id": "0_QE32lOMff_"
   },
   "source": [
    "<a name=\"task-1\"></a>\n",
    "\n",
    "# (1) Task 1: Regression [(index)](#index-task-1)"
   ]
  },
  {
   "cell_type": "markdown",
   "metadata": {
    "id": "DLl66QsJMfzc"
   },
   "source": [
    "<a name=\"task-11\"></a>\n",
    "\n",
    "## (1.1) Random Forest [(index)](#index-task-11)"
   ]
  },
  {
   "cell_type": "markdown",
   "metadata": {
    "id": "T47skSuUMf8M"
   },
   "source": [
    "<a name=\"task-111\"></a>\n",
    "\n",
    "### (1.1.1) [(index)](#index-task-111)"
   ]
  },
  {
   "cell_type": "markdown",
   "metadata": {},
   "source": [
    "The goal is to train a Decision Tree regression on the engineering data to see which feature determines the resultant electrical capacity of an electrode, and by how much.\n",
    "The summary of how I do this is:\n",
    "- Assign an index that indicates the factor that gives us the highest probability in determining the electrical capacity of an electrode.\n",
    "- Split the data using that chosen factor.\n",
    "- Repeat process on the condition of the chosen factor until we reach maximum depth or a pure node.\n",
    "\n",
    "I first read the training data and split it into the values of the features, `X_train`, and the values of the target, `y_train`."
   ]
  },
  {
   "cell_type": "code",
   "execution_count": 2,
   "metadata": {},
   "outputs": [],
   "source": [
    "# Reading sample and test data\n",
    "electrodes_sample = pd.read_csv('nanoelectrodes_capacitance_samples.csv')\n",
    "electrodes_test = pd.read_csv('nanoelectrodes_capacitance_test.csv')\n",
    "\n",
    "#Separating training and test data to its target and features\n",
    "y_train = electrodes_sample['Capacitance ($\\mu F / cm^2$)'].astype(int)\n",
    "X_train = electrodes_sample.iloc[:, list(range(6)) + list(range(7,13))]\n",
    "\n",
    "y_test = electrodes_test['Capacitance ($\\mu F / cm^2$)'].astype(int)\n",
    "X_test = electrodes_test.iloc[:, list(range(6)) + list(range(7,13))]\n",
    "\n",
    "# Helps clarify if the data in each feature is categorical or numerical i.e. discrete or continuous.\n",
    "columns_dict = {index: False for index in range(X_train.shape[1])}\n"
   ]
  },
  {
   "cell_type": "markdown",
   "metadata": {},
   "source": [
    "The aforementioned index will be the gini index defined to be:\n",
    "$$ \n",
    "\\text{GI}(\\boldsymbol y) = 1 - \\sum_{i=1}^Q \\mathbb P (y = c_i)^2\n",
    "$$\n",
    "where $c_i$ is the i-th node out of $Q$ distinct nodes, so $\\mathbb P (y = c_i)$ reads the weight of the node $i$ in the current sample $\\boldsymbol y$. \n",
    "\n"
   ]
  },
  {
   "cell_type": "code",
   "execution_count": 3,
   "metadata": {},
   "outputs": [],
   "source": [
    "def gini_index(y, sample_weights):\n",
    "    \"\"\"\n",
    "    Arguments:\n",
    "        y: vector of training labels, of shape (N,).\n",
    "        sample_weights: weights for each samples, of shape (N,).\n",
    "    Returns:\n",
    "        (float): the GINI-index for y.\n",
    "    \"\"\"\n",
    "\n",
    "    # initialize with zero for each distinct label.\n",
    "    label_weights = {yi: 0 for yi in set(y)}\n",
    "    for yi, wi in zip(y, sample_weights):\n",
    "        label_weights[yi] += wi\n",
    "\n",
    "    # The normalization constant\n",
    "    total_weight = sum(label_weights.values()) \n",
    "\n",
    "    sum_p_squared = 0\n",
    "    for weight in label_weights.values():\n",
    "        sum_p_squared += (weight / total_weight)**2  \n",
    "\n",
    "    # Return GINI-Index\n",
    "    return 1 - sum_p_squared "
   ]
  },
  {
   "cell_type": "markdown",
   "metadata": {},
   "source": [
    "Since all of our training data is numeric, the following three functions defined are dedicatied on splitting the data based on a value that minimises the average weighted total of the gini indices, which is defined to be:\n",
    "\n",
    "$$GI(\\boldsymbol y; j, s) = p_l \\times GI(\\boldsymbol y_l) + p_r \\times GI(\\boldsymbol y_r)$$\n",
    "\n",
    "where $p_l$ and $p_r$ are, respectively, the cumulative weights of samples on the left and on the right. The variables $\\boldsymbol y, j$ and $s$ represent `y`, `split_column` and `value` respectively."
   ]
  },
  {
   "cell_type": "code",
   "execution_count": 4,
   "metadata": {},
   "outputs": [],
   "source": [
    "def split_samples(X, y, sample_weights, column, value, categorical):\n",
    "    \"\"\"\n",
    "    Return the split of data whose column-th feature:\n",
    "      1. equals value, in case `column` is categorical, or\n",
    "      2. less than value, in case `column` is not categorical (i.e. numerical)\n",
    "\n",
    "    Arguments:\n",
    "        X: training features, of shape (N, p).\n",
    "        y: vector of training labels, of shape (N,).\n",
    "        sample_weights: weights for each samples, of shape (N,).\n",
    "        column: the column of the feature for splitting.\n",
    "        value: splitting threshold  the samples\n",
    "        categorical: boolean value indicating whether column is a categorical variable or numerical.\n",
    "    Returns:\n",
    "        tuple(np.array, np.array, np.array): tuple of the left split data (X_l, y_l, w_l).\n",
    "        tuple(np.array, np.array, np.array): tuple of the right split data (X_l, y_l, w_l)\n",
    "    \"\"\"\n",
    "\n",
    "    if categorical:\n",
    "        left_mask = (X[:, column] == value)\n",
    "    else:\n",
    "        left_mask = (X[:, column] < value)\n",
    "\n",
    "    # Using the binary masks `left_mask`, we split X, y, and sample_weights.\n",
    "    X_l, y_l, w_l = X[left_mask, :], y[left_mask], sample_weights[left_mask] \n",
    "    X_r, y_r, w_r = X[~left_mask, :], y[~left_mask], sample_weights[~left_mask] \n",
    "\n",
    "    return (X_l, y_l, w_l), (X_r, y_r, w_r)"
   ]
  },
  {
   "cell_type": "code",
   "execution_count": 5,
   "metadata": {},
   "outputs": [],
   "source": [
    "# Picking the best column based on the value of 'value' that minises the Gini Index\n",
    "def gini_split_value(X, y, sample_weights, column, categorical):\n",
    "    \"\"\"\n",
    "    Calculates the GINI-index based on `column` with the split that minimizes the GINI-index.\n",
    "    Arguments:\n",
    "        X: training features, of shape (N, p).\n",
    "        y: vector of training labels, of shape (N,).\n",
    "        sample_weights: weights for each samples, of shape (N,).\n",
    "        column: the column of the feature for calculating. 0 <= column < D\n",
    "        categorical: boolean value indicating whether column is a categorical variable or numerical.\n",
    "    Returns:\n",
    "        (float, float): the resulted GINI-index and the corresponding value used in splitting.\n",
    "    \"\"\"\n",
    "\n",
    "    unique_vals = np.unique(X[:, column])\n",
    "\n",
    "    assert len(unique_vals) > 1, f\"There must be more than one distinct feature value. Given: {unique_vals}.\"\n",
    "\n",
    "    gini_index_val, threshold = np.inf, None\n",
    "\n",
    "    # split the values of i-th feature and calculate the cost\n",
    "    for value in unique_vals:\n",
    "        (X_l, y_l, w_l), (X_r, y_r, w_r) = split_samples(X, y, sample_weights, column, value, categorical) \n",
    "\n",
    "        # if one of the two sides is empty, skip this split.\n",
    "        if len(y_l) == 0 or len(y_r) == 0:\n",
    "            continue\n",
    "\n",
    "        p_left = sum(w_l)/(sum(w_l) + sum(w_r))\n",
    "        p_right = 1 - p_left\n",
    "        new_cost = p_left * gini_index(y_l, w_l) + p_right * gini_index(y_r, w_r) \n",
    "        if new_cost < gini_index_val:\n",
    "              gini_index_val, threshold = new_cost, value\n",
    "\n",
    "    return gini_index_val, threshold\n"
   ]
  },
  {
   "cell_type": "code",
   "execution_count": 6,
   "metadata": {},
   "outputs": [],
   "source": [
    "def gini_split(X, y, sample_weights, columns_dict):\n",
    "    \"\"\"\n",
    "    Chooses the best feature to split according to criterion.\n",
    "    Args:\n",
    "        X: training features, of shape (N, p).\n",
    "        y: vector of training labels, of shape (N,).\n",
    "        sample_weights: weights for each samples, of shape (N,).\n",
    "        columns_dict: a dictionary mapping column indices to whether the column is categorical or numerical variable.\n",
    "    Returns:\n",
    "        (int, float): the best feature index and value used in splitting.\n",
    "        If the feature index is None, then no valid split for the current Node.\n",
    "    \"\"\"\n",
    "\n",
    "    # Initialize `split_column` to None, so if None returned this means there is no valid split at the current node.\n",
    "    min_gini_index = np.inf\n",
    "    split_column = None\n",
    "    split_val = np.nan\n",
    "\n",
    "    for column, categorical in columns_dict.items():\n",
    "        # skip column if samples are not seperable by that column.\n",
    "        if len(np.unique(X[:, column])) < 2:\n",
    "            continue\n",
    "        gini_index, current_split_val = gini_split_value(X, y, sample_weights, column, categorical)  \n",
    "\n",
    "\n",
    "        if gini_index < min_gini_index: \n",
    "            # Keep track with:\n",
    "\n",
    "            # 1. the current minimum gini-index value,\n",
    "            min_gini_index = gini_index \n",
    "\n",
    "            # 2. corresponding column,\n",
    "            split_column = column \n",
    "\n",
    "            # 3. corresponding split threshold.\n",
    "            split_val = current_split_val \n",
    "\n",
    "    return split_column, split_val\n"
   ]
  },
  {
   "cell_type": "markdown",
   "metadata": {},
   "source": [
    "The function `majority_vote` is added to ensure we cover all cases where the split doesn't/can't happen. It is done by simply taking the mode of the training target based on the weighting of each component $y_i$ in `y_train` ."
   ]
  },
  {
   "cell_type": "code",
   "execution_count": 7,
   "metadata": {},
   "outputs": [],
   "source": [
    "def majority_vote(y, sample_weights):\n",
    "    \"\"\"\n",
    "    Args:\n",
    "        y: vector of training labels, of shape (N,).\n",
    "        sample_weights: weights for each samples, of shape (N,).\n",
    "    Returns:\n",
    "        (int): the majority number\n",
    "    \"\"\"\n",
    "    majority_num = {yi: 0 for yi in set(y)}\n",
    "\n",
    "    for yi, wi in zip(y, sample_weights):\n",
    "        majority_num[yi] += wi\n",
    "\n",
    "    num_prediction = max(majority_num, key=majority_num.get) \n",
    "\n",
    "    return num_prediction"
   ]
  },
  {
   "cell_type": "markdown",
   "metadata": {},
   "source": [
    "The function `build_tree` completes the algorithm on determining the how each node will be chosen."
   ]
  },
  {
   "cell_type": "code",
   "execution_count": 8,
   "metadata": {},
   "outputs": [],
   "source": [
    "def build_tree(X, y, sample_weights, columns_dict, feature_names, depth,  max_depth=10, min_samples_leaf=2):\n",
    "    \"\"\"\n",
    "    Args:\n",
    "        X: (np.array) training features, of shape (N, p).\n",
    "        y: (np.array) vector of training target values, of shape (N,).\n",
    "        sample_weights: weights for each samples, of shape (N,).\n",
    "        columns_dict: a dictionary mapping column indices to whether the column is categorical or numerical variable.\n",
    "        feature_names (list): record the name of features in X in the original dataset.\n",
    "        depth (int): current depth for this node.\n",
    "    Returns:\n",
    "        (dict): a dict denoting the decision tree (binary-tree). Each node has seven attributes:\n",
    "          1. 'feature_name': The column name of the split.\n",
    "          2. 'feature_index': The column index of the split.\n",
    "          3. 'value': The value used for the split.\n",
    "          4. 'categorical': indicator for categorical/numerical variables.\n",
    "          5. 'majority_num': For leaf nodes, this stores the dominant number. Otherwise, it is None.\n",
    "          6. 'left': The left sub-tree with the same structure.\n",
    "          7. 'right' The right sub-tree with the same structure.\n",
    "    \"\"\"\n",
    "    # include a clause for the cases where (i) no feature, (ii) all values are the same, (iii) depth exceed, or (iv) X is too small\n",
    "    if len(np.unique(y))==1 or depth>=max_depth or len(X)<=min_samples_leaf:\n",
    "        return {'majority_num': majority_vote(y, sample_weights)}\n",
    "\n",
    "    split_index, split_val = gini_split(X, y, sample_weights, columns_dict)  \n",
    "\n",
    "    # If no valid split at this node, use majority vote.\n",
    "    if split_index is None:\n",
    "        return {'majority_num': majority_vote(y, sample_weights)}\n",
    "\n",
    "    categorical = columns_dict[split_index]\n",
    "\n",
    "    # Split samples (X, y, sample_weights) given column, split-value, and categorical flag.\n",
    "    (X_l, y_l, w_l), (X_r, y_r, w_r) = split_samples(X, y, sample_weights, split_index, split_val, categorical) \n",
    "    return {\n",
    "        'feature_name': feature_names[split_index],\n",
    "        'feature_index': split_index,\n",
    "        'value': split_val,\n",
    "        'categorical': categorical,\n",
    "        'majority_num': None,\n",
    "        'left': build_tree(X_l, y_l, w_l, columns_dict, feature_names, depth + 1, max_depth, min_samples_leaf),\n",
    "        'right': build_tree(X_r, y_r, w_r, columns_dict, feature_names, depth + 1, max_depth, min_samples_leaf)\n",
    "    }"
   ]
  },
  {
   "cell_type": "markdown",
   "metadata": {},
   "source": [
    "Putting everything together leads us to `train` where `train` builds the entire tree based on the training data."
   ]
  },
  {
   "cell_type": "code",
   "execution_count": 9,
   "metadata": {},
   "outputs": [],
   "source": [
    "def train(X, y,  columns_dict, sample_weights=None):\n",
    "    \"\"\"\n",
    "    Builds the decision tree according to the training data.\n",
    "    Args:\n",
    "        X: (pd.Dataframe) training features, of shape (N, p). Each X[i] is a training sample.\n",
    "        y: (pd.Series) vector of training target values, of shape (N,).\n",
    "        columns_dict: a dictionary mapping column indices to whether the column is categorical or numerical variable.\n",
    "        sample_weights: weights for each samples, of shape (N,).\n",
    "    \"\"\"\n",
    "    if sample_weights is None:\n",
    "        # if the sample weights is not provided, we assume the samples have uniform weights\n",
    "        sample_weights = np.ones(X.shape[0]) / X.shape[0]\n",
    "    else:\n",
    "        sample_weights = np.array(sample_weights) / np.sum(sample_weights)\n",
    "\n",
    "    feature_names = X.columns.tolist()\n",
    "    X = X.to_numpy()\n",
    "    y = y.to_numpy()\n",
    "    return build_tree(X, y, sample_weights, columns_dict, feature_names, depth=1)"
   ]
  },
  {
   "cell_type": "code",
   "execution_count": 10,
   "metadata": {},
   "outputs": [
    {
     "data": {
      "text/plain": [
       "{'feature_name': 'H9_Factor ($mL/g$)',\n",
       " 'feature_index': 7,\n",
       " 'value': 4.997162405405753,\n",
       " 'categorical': False,\n",
       " 'majority_num': None,\n",
       " 'left': {'feature_name': 'H9_Factor ($mL/g$)',\n",
       "  'feature_index': 7,\n",
       "  'value': 4.27729631685984,\n",
       "  'categorical': False,\n",
       "  'majority_num': None,\n",
       "  'left': {'majority_num': 220},\n",
       "  'right': {'majority_num': 203}},\n",
       " 'right': {'feature_name': 'Doped_Carbon_Percentage',\n",
       "  'feature_index': 11,\n",
       "  'value': 19.76098089518472,\n",
       "  'categorical': False,\n",
       "  'majority_num': None,\n",
       "  'left': {'feature_name': 'Doped_Zinc_Percentage',\n",
       "   'feature_index': 9,\n",
       "   'value': 83.80132235741195,\n",
       "   'categorical': False,\n",
       "   'majority_num': None,\n",
       "   'left': {'feature_name': 'Doped_Oxygen_Percentage',\n",
       "    'feature_index': 3,\n",
       "    'value': 9.36,\n",
       "    'categorical': False,\n",
       "    'majority_num': None,\n",
       "    'left': {'feature_name': 'Surface_Area ($m^2/g$)',\n",
       "     'feature_index': 0,\n",
       "     'value': 410.2,\n",
       "     'categorical': False,\n",
       "     'majority_num': None,\n",
       "     'left': {'feature_name': 'Doped_Nitrogen_Percentage',\n",
       "      'feature_index': 2,\n",
       "      'value': 5.32,\n",
       "      'categorical': False,\n",
       "      'majority_num': None,\n",
       "      'left': {'majority_num': 125},\n",
       "      'right': {'majority_num': 110}},\n",
       "     'right': {'feature_name': 'Surface_Area ($m^2/g$)',\n",
       "      'feature_index': 0,\n",
       "      'value': 437.9,\n",
       "      'categorical': False,\n",
       "      'majority_num': None,\n",
       "      'left': {'majority_num': 372},\n",
       "      'right': {'feature_name': 'Surface_Area ($m^2/g$)',\n",
       "       'feature_index': 0,\n",
       "       'value': 444.5,\n",
       "       'categorical': False,\n",
       "       'majority_num': None,\n",
       "       'left': {'majority_num': 156},\n",
       "       'right': {'feature_name': 'Surface_Area ($m^2/g$)',\n",
       "        'feature_index': 0,\n",
       "        'value': 678.73,\n",
       "        'categorical': False,\n",
       "        'majority_num': None,\n",
       "        'left': {'majority_num': 162},\n",
       "        'right': {'feature_name': 'Surface_Area ($m^2/g$)',\n",
       "         'feature_index': 0,\n",
       "         'value': 830.0,\n",
       "         'categorical': False,\n",
       "         'majority_num': None,\n",
       "         'left': {'majority_num': 281},\n",
       "         'right': {'majority_num': 121}}}}}},\n",
       "    'right': {'feature_name': 'Doped_Carbon_Percentage',\n",
       "     'feature_index': 11,\n",
       "     'value': 10.585985705192996,\n",
       "     'categorical': False,\n",
       "     'majority_num': None,\n",
       "     'left': {'feature_name': 'Surface_Area ($m^2/g$)',\n",
       "      'feature_index': 0,\n",
       "      'value': 178.6,\n",
       "      'categorical': False,\n",
       "      'majority_num': None,\n",
       "      'left': {'majority_num': 160},\n",
       "      'right': {'majority_num': 183}},\n",
       "     'right': {'feature_name': 'Defect_Ratio',\n",
       "      'feature_index': 1,\n",
       "      'value': 1.47,\n",
       "      'categorical': False,\n",
       "      'majority_num': None,\n",
       "      'left': {'feature_name': 'Doped_Nitrogen_Percentage',\n",
       "       'feature_index': 2,\n",
       "       'value': 10.1,\n",
       "       'categorical': False,\n",
       "       'majority_num': None,\n",
       "       'left': {'feature_name': 'Doped_Oxygen_Percentage',\n",
       "        'feature_index': 3,\n",
       "        'value': 16.0,\n",
       "        'categorical': False,\n",
       "        'majority_num': None,\n",
       "        'left': {'majority_num': 298},\n",
       "        'right': {'majority_num': 113}},\n",
       "       'right': {'majority_num': 290}},\n",
       "      'right': {'majority_num': 332}}}},\n",
       "   'right': {'feature_name': 'Doped_Nitrogen_Percentage',\n",
       "    'feature_index': 2,\n",
       "    'value': 5.74,\n",
       "    'categorical': False,\n",
       "    'majority_num': None,\n",
       "    'left': {'majority_num': 196},\n",
       "    'right': {'majority_num': 153}}},\n",
       "  'right': {'feature_name': 'Doped_Carbon_Percentage',\n",
       "   'feature_index': 11,\n",
       "   'value': 49.34801312622436,\n",
       "   'categorical': False,\n",
       "   'majority_num': None,\n",
       "   'left': {'feature_name': 'Doped_Zinc_Percentage',\n",
       "    'feature_index': 9,\n",
       "    'value': 92.09621265360884,\n",
       "    'categorical': False,\n",
       "    'majority_num': None,\n",
       "    'left': {'feature_name': 'Doped_Oxygen_Percentage',\n",
       "     'feature_index': 3,\n",
       "     'value': 27.56,\n",
       "     'categorical': False,\n",
       "     'majority_num': None,\n",
       "     'left': {'feature_name': 'Doped_Zinc_Percentage',\n",
       "      'feature_index': 9,\n",
       "      'value': 28.53525923092128,\n",
       "      'categorical': False,\n",
       "      'majority_num': None,\n",
       "      'left': {'feature_name': 'Doped_Oxygen_Percentage',\n",
       "       'feature_index': 3,\n",
       "       'value': 4.76,\n",
       "       'categorical': False,\n",
       "       'majority_num': None,\n",
       "       'left': {'majority_num': 234},\n",
       "       'right': {'feature_name': 'Defect_Ratio',\n",
       "        'feature_index': 1,\n",
       "        'value': 0.89,\n",
       "        'categorical': False,\n",
       "        'majority_num': None,\n",
       "        'left': {'feature_name': 'Doped_Nitrogen_Percentage',\n",
       "         'feature_index': 2,\n",
       "         'value': 5.483333333333333,\n",
       "         'categorical': False,\n",
       "         'majority_num': None,\n",
       "         'left': {'majority_num': 280},\n",
       "         'right': {'majority_num': 231}},\n",
       "        'right': {'feature_name': 'Doped_Zinc_Percentage',\n",
       "         'feature_index': 9,\n",
       "         'value': 25.313970573180548,\n",
       "         'categorical': False,\n",
       "         'majority_num': None,\n",
       "         'left': {'majority_num': 140},\n",
       "         'right': {'majority_num': 132}}}},\n",
       "      'right': {'feature_name': 'Current_Density ($A/g$)',\n",
       "       'feature_index': 5,\n",
       "       'value': 0.7,\n",
       "       'categorical': False,\n",
       "       'majority_num': None,\n",
       "       'left': {'feature_name': 'Defect_Ratio',\n",
       "        'feature_index': 1,\n",
       "        'value': 1.18,\n",
       "        'categorical': False,\n",
       "        'majority_num': None,\n",
       "        'left': {'feature_name': 'Doped_Carbon_Percentage',\n",
       "         'feature_index': 11,\n",
       "         'value': 26.800927789605986,\n",
       "         'categorical': False,\n",
       "         'majority_num': None,\n",
       "         'left': {'majority_num': 241},\n",
       "         'right': {'majority_num': 212}},\n",
       "        'right': {'feature_name': 'Doped_Zinc_Percentage',\n",
       "         'feature_index': 9,\n",
       "         'value': 47.01688154342425,\n",
       "         'categorical': False,\n",
       "         'majority_num': None,\n",
       "         'left': {'majority_num': 195},\n",
       "         'right': {'majority_num': 209}}},\n",
       "       'right': {'feature_name': 'Doped_Sulfur_Percentage',\n",
       "        'feature_index': 4,\n",
       "        'value': 0.23,\n",
       "        'categorical': False,\n",
       "        'majority_num': None,\n",
       "        'left': {'feature_name': 'Doped_Zinc_Percentage',\n",
       "         'feature_index': 9,\n",
       "         'value': 61.55465624709353,\n",
       "         'categorical': False,\n",
       "         'majority_num': None,\n",
       "         'left': {'majority_num': 238},\n",
       "         'right': {'majority_num': 201}},\n",
       "        'right': {'feature_name': 'Doped_Carbon_Percentage',\n",
       "         'feature_index': 11,\n",
       "         'value': 26.652245257241628,\n",
       "         'categorical': False,\n",
       "         'majority_num': None,\n",
       "         'left': {'majority_num': 200},\n",
       "         'right': {'majority_num': 150}}}}},\n",
       "     'right': {'feature_name': 'Doped_Flourine_Percentage',\n",
       "      'feature_index': 10,\n",
       "      'value': 51.61204335459556,\n",
       "      'categorical': False,\n",
       "      'majority_num': None,\n",
       "      'left': {'feature_name': 'H9_Factor ($mL/g$)',\n",
       "       'feature_index': 7,\n",
       "       'value': 15.70012340933149,\n",
       "       'categorical': False,\n",
       "       'majority_num': None,\n",
       "       'left': {'feature_name': 'Doped_Zinc_Percentage',\n",
       "        'feature_index': 9,\n",
       "        'value': 32.358594396179576,\n",
       "        'categorical': False,\n",
       "        'majority_num': None,\n",
       "        'left': {'majority_num': 180},\n",
       "        'right': {'majority_num': 158}},\n",
       "       'right': {'majority_num': 149}},\n",
       "      'right': {'feature_name': 'Doped_Flourine_Percentage',\n",
       "       'feature_index': 10,\n",
       "       'value': 52.60961954081354,\n",
       "       'categorical': False,\n",
       "       'majority_num': None,\n",
       "       'left': {'majority_num': 142},\n",
       "       'right': {'feature_name': 'Doped_Oxygen_Percentage',\n",
       "        'feature_index': 3,\n",
       "        'value': 28.41,\n",
       "        'categorical': False,\n",
       "        'majority_num': None,\n",
       "        'left': {'majority_num': 167},\n",
       "        'right': {'feature_name': 'Surface_Area ($m^2/g$)',\n",
       "         'feature_index': 0,\n",
       "         'value': 131.3,\n",
       "         'categorical': False,\n",
       "         'majority_num': None,\n",
       "         'left': {'majority_num': 184},\n",
       "         'right': {'majority_num': 160}}}}}},\n",
       "    'right': {'feature_name': 'Defect_Ratio',\n",
       "     'feature_index': 1,\n",
       "     'value': 1.21,\n",
       "     'categorical': False,\n",
       "     'majority_num': None,\n",
       "     'left': {'majority_num': 297},\n",
       "     'right': {'feature_name': 'Defect_Ratio',\n",
       "      'feature_index': 1,\n",
       "      'value': 1.47,\n",
       "      'categorical': False,\n",
       "      'majority_num': None,\n",
       "      'left': {'majority_num': 280},\n",
       "      'right': {'majority_num': 199}}}},\n",
       "   'right': {'feature_name': 'T5_Factor ($mL/g$)',\n",
       "    'feature_index': 8,\n",
       "    'value': 101.36501380476754,\n",
       "    'categorical': False,\n",
       "    'majority_num': None,\n",
       "    'left': {'feature_name': 'Doped_Oxygen_Percentage',\n",
       "     'feature_index': 3,\n",
       "     'value': 24.2,\n",
       "     'categorical': False,\n",
       "     'majority_num': None,\n",
       "     'left': {'feature_name': 'Electrolyte_Concentration $[M]$',\n",
       "      'feature_index': 6,\n",
       "      'value': 3.0,\n",
       "      'categorical': False,\n",
       "      'majority_num': None,\n",
       "      'left': {'feature_name': 'Defect_Ratio',\n",
       "       'feature_index': 1,\n",
       "       'value': 1.32,\n",
       "       'categorical': False,\n",
       "       'majority_num': None,\n",
       "       'left': {'feature_name': 'Doped_Flourine_Percentage',\n",
       "        'feature_index': 10,\n",
       "        'value': 38.80401246179729,\n",
       "        'categorical': False,\n",
       "        'majority_num': None,\n",
       "        'left': {'feature_name': 'Surface_Area ($m^2/g$)',\n",
       "         'feature_index': 0,\n",
       "         'value': 438.7,\n",
       "         'categorical': False,\n",
       "         'majority_num': None,\n",
       "         'left': {'majority_num': 120},\n",
       "         'right': {'majority_num': 253}},\n",
       "        'right': {'feature_name': 'Doped_Nitrogen_Percentage',\n",
       "         'feature_index': 2,\n",
       "         'value': 8.2,\n",
       "         'categorical': False,\n",
       "         'majority_num': None,\n",
       "         'left': {'majority_num': 175},\n",
       "         'right': {'majority_num': 103}}},\n",
       "       'right': {'feature_name': 'Doped_Carbon_Percentage',\n",
       "        'feature_index': 11,\n",
       "        'value': 58.105727611937546,\n",
       "        'categorical': False,\n",
       "        'majority_num': None,\n",
       "        'left': {'majority_num': 260},\n",
       "        'right': {'feature_name': 'Surface_Area ($m^2/g$)',\n",
       "         'feature_index': 0,\n",
       "         'value': 370.4,\n",
       "         'categorical': False,\n",
       "         'majority_num': None,\n",
       "         'left': {'majority_num': 193},\n",
       "         'right': {'majority_num': 235}}}},\n",
       "      'right': {'feature_name': 'Doped_Zinc_Percentage',\n",
       "       'feature_index': 9,\n",
       "       'value': 27.19338163037045,\n",
       "       'categorical': False,\n",
       "       'majority_num': None,\n",
       "       'left': {'feature_name': 'Doped_Oxygen_Percentage',\n",
       "        'feature_index': 3,\n",
       "        'value': 6.8,\n",
       "        'categorical': False,\n",
       "        'majority_num': None,\n",
       "        'left': {'feature_name': 'Surface_Area ($m^2/g$)',\n",
       "         'feature_index': 0,\n",
       "         'value': 1066.9,\n",
       "         'categorical': False,\n",
       "         'majority_num': None,\n",
       "         'left': {'majority_num': 103},\n",
       "         'right': {'majority_num': 203}},\n",
       "        'right': {'feature_name': 'Surface_Area ($m^2/g$)',\n",
       "         'feature_index': 0,\n",
       "         'value': 280.0,\n",
       "         'categorical': False,\n",
       "         'majority_num': None,\n",
       "         'left': {'majority_num': 155},\n",
       "         'right': {'majority_num': 253}}},\n",
       "       'right': {'feature_name': 'Doped_Carbon_Percentage',\n",
       "        'feature_index': 11,\n",
       "        'value': 50.035322447595725,\n",
       "        'categorical': False,\n",
       "        'majority_num': None,\n",
       "        'left': {'feature_name': 'Doped_Nitrogen_Percentage',\n",
       "         'feature_index': 2,\n",
       "         'value': 2.51,\n",
       "         'categorical': False,\n",
       "         'majority_num': None,\n",
       "         'left': {'majority_num': 178},\n",
       "         'right': {'majority_num': 160}},\n",
       "        'right': {'feature_name': 'Defect_Ratio',\n",
       "         'feature_index': 1,\n",
       "         'value': 1.06,\n",
       "         'categorical': False,\n",
       "         'majority_num': None,\n",
       "         'left': {'majority_num': 222},\n",
       "         'right': {'majority_num': 138}}}}},\n",
       "     'right': {'feature_name': 'Doped_Nitrogen_Percentage',\n",
       "      'feature_index': 2,\n",
       "      'value': 5.8500000000000005,\n",
       "      'categorical': False,\n",
       "      'majority_num': None,\n",
       "      'left': {'feature_name': 'Current_Density ($A/g$)',\n",
       "       'feature_index': 5,\n",
       "       'value': 10.0,\n",
       "       'categorical': False,\n",
       "       'majority_num': None,\n",
       "       'left': {'majority_num': 172},\n",
       "       'right': {'majority_num': 130}},\n",
       "      'right': {'feature_name': 'Doped_Zinc_Percentage',\n",
       "       'feature_index': 9,\n",
       "       'value': 63.479978084257645,\n",
       "       'categorical': False,\n",
       "       'majority_num': None,\n",
       "       'left': {'feature_name': 'Doped_Flourine_Percentage',\n",
       "        'feature_index': 10,\n",
       "        'value': 31.39575868252513,\n",
       "        'categorical': False,\n",
       "        'majority_num': None,\n",
       "        'left': {'majority_num': 93},\n",
       "        'right': {'majority_num': 124}},\n",
       "       'right': {'feature_name': 'Surface_Area ($m^2/g$)',\n",
       "        'feature_index': 0,\n",
       "        'value': 471.05,\n",
       "        'categorical': False,\n",
       "        'majority_num': None,\n",
       "        'left': {'majority_num': 161},\n",
       "        'right': {'majority_num': 140}}}}},\n",
       "    'right': {'feature_name': 'Doped_Zinc_Percentage',\n",
       "     'feature_index': 9,\n",
       "     'value': 26.637543069982065,\n",
       "     'categorical': False,\n",
       "     'majority_num': None,\n",
       "     'left': {'majority_num': 118},\n",
       "     'right': {'feature_name': 'Defect_Ratio',\n",
       "      'feature_index': 1,\n",
       "      'value': 1.18,\n",
       "      'categorical': False,\n",
       "      'majority_num': None,\n",
       "      'left': {'feature_name': 'Surface_Area ($m^2/g$)',\n",
       "       'feature_index': 0,\n",
       "       'value': 108.6,\n",
       "       'categorical': False,\n",
       "       'majority_num': None,\n",
       "       'left': {'majority_num': 67},\n",
       "       'right': {'feature_name': 'Surface_Area ($m^2/g$)',\n",
       "        'feature_index': 0,\n",
       "        'value': 444.5,\n",
       "        'categorical': False,\n",
       "        'majority_num': None,\n",
       "        'left': {'feature_name': 'Surface_Area ($m^2/g$)',\n",
       "         'feature_index': 0,\n",
       "         'value': 175.9,\n",
       "         'categorical': False,\n",
       "         'majority_num': None,\n",
       "         'left': {'majority_num': 90},\n",
       "         'right': {'majority_num': 200}},\n",
       "        'right': {'feature_name': 'Surface_Area ($m^2/g$)',\n",
       "         'feature_index': 0,\n",
       "         'value': 1790.3,\n",
       "         'categorical': False,\n",
       "         'majority_num': None,\n",
       "         'left': {'majority_num': 135},\n",
       "         'right': {'majority_num': 260}}}},\n",
       "      'right': {'feature_name': 'Doped_Oxygen_Percentage',\n",
       "       'feature_index': 3,\n",
       "       'value': 10.47,\n",
       "       'categorical': False,\n",
       "       'majority_num': None,\n",
       "       'left': {'feature_name': 'Electrolyte_Concentration $[M]$',\n",
       "        'feature_index': 6,\n",
       "        'value': 6.0,\n",
       "        'categorical': False,\n",
       "        'majority_num': None,\n",
       "        'left': {'majority_num': 201},\n",
       "        'right': {'majority_num': 118}},\n",
       "       'right': {'feature_name': 'Surface_Area ($m^2/g$)',\n",
       "        'feature_index': 0,\n",
       "        'value': 215.0,\n",
       "        'categorical': False,\n",
       "        'majority_num': None,\n",
       "        'left': {'majority_num': 126},\n",
       "        'right': {'feature_name': 'Surface_Area ($m^2/g$)',\n",
       "         'feature_index': 0,\n",
       "         'value': 1013.0,\n",
       "         'categorical': False,\n",
       "         'majority_num': None,\n",
       "         'left': {'majority_num': 36},\n",
       "         'right': {'majority_num': 95}}}}}}}}}}"
      ]
     },
     "execution_count": 10,
     "metadata": {},
     "output_type": "execute_result"
    }
   ],
   "source": [
    "# Output of the Decision Tree \n",
    "tree = train(X_train, y_train, columns_dict)\n",
    "tree"
   ]
  },
  {
   "cell_type": "markdown",
   "metadata": {},
   "source": [
    "The following two functions, namely `classify` and `predict`, will allow us to predict values for the resultant electrical capacity using the test data on the features, which is represented by `X_test`."
   ]
  },
  {
   "cell_type": "code",
   "execution_count": 11,
   "metadata": {},
   "outputs": [],
   "source": [
    "def classify(tree, x):\n",
    "    \"\"\"\n",
    "    Classify a single sample with the fitted decision tree.\n",
    "    Args:\n",
    "        x: ((pd.Dataframe) a single sample features, of shape (D,).\n",
    "    Returns:\n",
    "        (int): predicted testing sample label.\n",
    "    \"\"\"\n",
    "    if tree['majority_num'] is not None:\n",
    "        return tree['majority_num']\n",
    "\n",
    "    elif tree['categorical']:\n",
    "        if x[tree['feature_index']] == tree['value']:\n",
    "            # go to left branch\n",
    "            return classify(tree['left'], x)\n",
    "        else:\n",
    "            # go to right branch\n",
    "            return classify(tree['right'], x)\n",
    "\n",
    "    else:\n",
    "\n",
    "        if x[tree['feature_index']] < tree['value']: \n",
    "            # go to left branch\n",
    "            return classify(tree['left'], x)  \n",
    "        else:\n",
    "            # go to right branch\n",
    "            return classify(tree['right'], x)  "
   ]
  },
  {
   "cell_type": "code",
   "execution_count": 12,
   "metadata": {},
   "outputs": [],
   "source": [
    "def predict(tree, X):\n",
    "    \"\"\"\n",
    "    Predict classification results for X.\n",
    "    Args:\n",
    "        X: (pd.Dataframe) testing sample features, of shape (N, p).\n",
    "    Returns:\n",
    "        (np.array): predicted testing sample labels, of shape (N,).\n",
    "    \"\"\"\n",
    "    if len(X.shape) == 1:\n",
    "        return classify(tree, X)\n",
    "    else:\n",
    "        return np.array([classify(tree, x) for x in X])"
   ]
  },
  {
   "cell_type": "markdown",
   "metadata": {},
   "source": [
    "We now compare the predicted values, `y_pred`, with the true data, `y_test` using the mean squared error:\n",
    "\n",
    "$$MSE = \\mathbb{E}[(y_{train} - y_{test})^2]$$ \n",
    "\n",
    "and the coefficient of determination:\n",
    "\n",
    "$$R^2 = 1 - \\frac{ \\sum^N_{i=1}{(y_{test_i} - \\bar{y}_{test})^2} }{ \\sum^N_{i=1}{(y_{test_i} - y_{pred_i})^2} }$$"
   ]
  },
  {
   "cell_type": "code",
   "execution_count": 13,
   "metadata": {},
   "outputs": [],
   "source": [
    "def MSE(yhat, y):\n",
    "    return np.mean((yhat - y)**2)\n",
    "\n",
    "def r_squared(y_pred, y):\n",
    "    s_1 = sum((y_test - np.mean(y_test))**2)\n",
    "    s_2 = sum((y_pred - y_test)**2)\n",
    "\n",
    "    return 1 - s_2/s_1"
   ]
  },
  {
   "cell_type": "code",
   "execution_count": 14,
   "metadata": {},
   "outputs": [
    {
     "name": "stdout",
     "output_type": "stream",
     "text": [
      "MSE: 8145.322580645161\n",
      "R^2: -0.2326751742009936\n",
      "bias: -29.161290322580644\n",
      "var: 7294.941727367325\n"
     ]
    }
   ],
   "source": [
    "y_pred = predict(tree, X_test.to_numpy())\n",
    "print(f'MSE: {MSE(y_pred, y_test)}')\n",
    "print(f'R^2: {r_squared(y_pred, y_test)}')\n",
    "print(f'bias: {np.mean(y_pred - y_test)}')\n",
    "print(f'var: {MSE(y_pred, y_test) - np.mean(y_pred - y_test)**2}')"
   ]
  },
  {
   "cell_type": "markdown",
   "metadata": {},
   "source": [
    "Large $MSE$, negative $R^2$, relatively low bias implies that the variance in the residuals is very large, so the model constructed is perhaps overfitted and has very low predictive power or the model itself is not great for this data. This can be remedied by reducing the value of `max_depth` or simply choosing another model to train."
   ]
  },
  {
   "cell_type": "markdown",
   "metadata": {
    "id": "wx4c9z5pMgDR"
   },
   "source": [
    "<a name=\"task-112\"></a>\n",
    "\n",
    "### (1.1.2) [(index)](#index-task-112)"
   ]
  },
  {
   "cell_type": "markdown",
   "metadata": {},
   "source": [
    "To construct a Random Forest on the data, the procedure is similar to constructing a Decision Tree however we take an aggregate of many, but smaller, Decision Trees using randomly selected features in the dataset.\n",
    "\n",
    "Therefore the variables that need to be taken into consideration now are:\n",
    "- The number of features choses.\n",
    "- The number of Decision Trees built.\n",
    "\n",
    "Certain functions need to be modified in order to achieve this. \n",
    "\n",
    "The first being the function `gini_split_rf`, as it is similar to the function `gini_split`, however it picks the best feature and best condition to split the feature on by only using the randomly selected features chosen."
   ]
  },
  {
   "cell_type": "code",
   "execution_count": 15,
   "metadata": {},
   "outputs": [],
   "source": [
    "def gini_split_rf(n_features, X, y, sample_weights, columns_dict):\n",
    "    \"\"\"\n",
    "    Chooses the best feature to split according to criterion.\n",
    "    Args:\n",
    "        n_features: number of sampled features.\n",
    "        X: training features, of shape (N, p).\n",
    "        y: vector of training labels, of shape (N,).\n",
    "        sample_weights: weights for each samples, of shape (N,).\n",
    "        columns_dict: a dictionary mapping column indices to whether the column is categorical or numerical variable.\n",
    "    Returns:\n",
    "        (float, int, float): the minimized gini-index, the best feature index and value used in splitting.\n",
    "    \"\"\"\n",
    "\n",
    "    # The added sampling step.\n",
    "    columns = np.random.choice(list(columns_dict.keys()), n_features, replace=False)\n",
    "    columns_dict = {c: columns_dict[c] for c in columns}\n",
    "\n",
    "    min_gini_index, split_column, split_val = np.inf, 0, 0\n",
    "\n",
    "    # Only scans through the sampled columns in `columns_dict`.\n",
    "    for column, categorical in columns_dict.items():\n",
    "        # skip column if samples are not seperable by that column.\n",
    "        if len(np.unique(X[:, column])) < 2:\n",
    "            continue\n",
    "\n",
    "        # searchs for the best splitting value for the given column.\n",
    "        gini_index, val = gini_split_value(X, y, sample_weights, column, categorical)  \n",
    "        if gini_index < min_gini_index:\n",
    "            min_gini_index, split_column, split_val = gini_index, column, val\n",
    "\n",
    "    return min_gini_index, split_column, split_val"
   ]
  },
  {
   "cell_type": "markdown",
   "metadata": {},
   "source": [
    "Now, the function `build_tree` needs to be modified to call `gini_split_rf` instead."
   ]
  },
  {
   "cell_type": "code",
   "execution_count": 16,
   "metadata": {},
   "outputs": [],
   "source": [
    "def build_tree_rf(n_features, X, y, sample_weights, columns_dict, feature_names, depth,  max_depth=6, min_samples_leaf=5):\n",
    "    \"\"\"Builds the decision tree according to the data.\n",
    "    Args:\n",
    "        X: (np.array) training features, of shape (N, p).\n",
    "        y: (np.array) vector of training labels, of shape (N,).\n",
    "        sample_weights: weights for each samples, of shape (N,).\n",
    "        columns_dict: a dictionary mapping column indices to whether the column is categorical or numerical variable.\n",
    "        feature_names (list): record the name of features in X in the original dataset.\n",
    "        depth (int): current depth for this node.\n",
    "    Returns:\n",
    "        (dict): a dict denoting the decision tree (binary-tree). Each node has seven attributes:\n",
    "          1. 'feature_name': The column name of the split.\n",
    "          2. 'feature_index': The column index of the split.\n",
    "          3. 'value': The value used for the split.\n",
    "          4. 'categorical': indicator for categorical/numerical variables.\n",
    "          5. 'majority_num': For leaf nodes, this stores the dominant label. Otherwise, it is None.\n",
    "          6. 'left': The left sub-tree with the same structure.\n",
    "          7. 'right' The right sub-tree with the same structure.\n",
    "    \"\"\"\n",
    "    # includes a clause for the cases where (i) all lables are the same, (ii) depth exceed (iii) X is too small\n",
    "    if len(np.unique(y)) == 1 or depth>=max_depth or len(X)<=min_samples_leaf:\n",
    "        return {'majority_num': majority_vote(y, sample_weights)}\n",
    "\n",
    "    else:\n",
    "        GI, split_column, split_val = gini_split_rf(n_features, X, y, sample_weights, columns_dict)  \n",
    "\n",
    "        # If GI is infinity, it means that samples are not seperable by the sampled features.\n",
    "        if GI == np.inf:\n",
    "            return {'majority_num': majority_vote(y, sample_weights)}\n",
    "        categorical = columns_dict[split_column]\n",
    "        (X_l, y_l, w_l), (X_r, y_r, w_r) = split_samples(X, y, sample_weights, split_column, split_val, categorical) \n",
    "        return {\n",
    "            'feature_name': feature_names[split_column],\n",
    "            'feature_index': split_column,\n",
    "            'value': split_val,\n",
    "            'categorical': categorical,\n",
    "            'majority_num': None,\n",
    "            'left': build_tree_rf(n_features, X_l, y_l, w_l, columns_dict, feature_names, depth + 1, max_depth, min_samples_leaf),\n",
    "            'right': build_tree_rf(n_features, X_r, y_r, w_r, columns_dict, feature_names, depth + 1, max_depth, min_samples_leaf)\n",
    "        }"
   ]
  },
  {
   "cell_type": "markdown",
   "metadata": {},
   "source": [
    "The function `train_rf` now builds multiple Decision Trees using the randomly selected subset of features.\n"
   ]
  },
  {
   "cell_type": "code",
   "execution_count": 17,
   "metadata": {},
   "outputs": [],
   "source": [
    "def train_rf(B, n_features, X, y,  columns_dict, sample_weights=None, max_depth = 6, min_samples_leaf = 5):\n",
    "    \"\"\"\n",
    "    Builds the decision tree according to the training data.\n",
    "    Args:\n",
    "        B: number of decision trees.\n",
    "        X: (pd.Dataframe) training features, of shape (N, p). Each X[i] is a training sample.\n",
    "        y: (pd.Series) vector of training labels, of shape (N,). y[i] is the label for X[i], and each y[i] is\n",
    "        an integer in the range 0 <= y[i] <= C. Here C = 1.\n",
    "        columns_dict: a dictionary mapping column indices to whether the column is categorical or numerical variable.\n",
    "        sample_weights: weights for each samples, of shape (N,).\n",
    "    \"\"\"\n",
    "    if sample_weights is None:\n",
    "        # if the sample weights is not provided, we assume the samples have uniform weights\n",
    "        sample_weights = np.ones(X.shape[0]) / X.shape[0]\n",
    "    else:\n",
    "        sample_weights = np.array(sample_weights) / np.sum(sample_weights)\n",
    "\n",
    "    feature_names = X.columns.tolist()\n",
    "    X = X.to_numpy()\n",
    "    y = y.to_numpy()\n",
    "    N = X.shape[0]\n",
    "    training_indices = np.arange(N)\n",
    "    trees = []\n",
    "\n",
    "    for _ in range(B):\n",
    "        # Samples the training_indices (with replacement)\n",
    "        sample = np.random.choice(training_indices, N, replace=True) \n",
    "        X_sample = X[sample, :]\n",
    "        y_sample = y[sample]\n",
    "        w_sample = sample_weights[sample]\n",
    "        tree = build_tree_rf(n_features, X_sample, y_sample, w_sample,\n",
    "                             columns_dict, feature_names, depth=1, max_depth= max_depth, min_samples_leaf= min_samples_leaf)\n",
    "        trees.append(tree)\n",
    "\n",
    "    return trees"
   ]
  },
  {
   "cell_type": "markdown",
   "metadata": {},
   "source": [
    "The function `predict_rf` takes the Random Forest constructed and the data of the features and outputs the class with the highest probability.\n",
    "It does this by taking the average of all predictions made."
   ]
  },
  {
   "cell_type": "code",
   "execution_count": 18,
   "metadata": {},
   "outputs": [],
   "source": [
    "def predict_rf(rf, X):\n",
    "    \"\"\"\n",
    "    Predicts classification results for X.\n",
    "    Args:\n",
    "        rf: A trained random forest through train_rf function.\n",
    "        X: (pd.Dataframe) testing sample features, of shape (N, p).\n",
    "    Returns:\n",
    "        (np.array): predicted testing sample labels, of shape (N,).\n",
    "    \"\"\"\n",
    "\n",
    "    def aggregate(decisions):\n",
    "        \"\"\"\n",
    "        This function takes a list of predicted values produced by a list\n",
    "        of decision trees and returns the average of those values.\n",
    "        \"\"\"\n",
    "        return np.mean(decisions)\n",
    "    \n",
    "    if len(X.shape) == 1:\n",
    "        # if we have one sample\n",
    "        return aggregate([classify(tree, X) for tree in rf])\n",
    "    else:\n",
    "        # if we have multiple samples\n",
    "        return np.array([aggregate([classify(tree, x) for tree in rf]) for index, x in X.iterrows()])"
   ]
  },
  {
   "cell_type": "markdown",
   "metadata": {},
   "source": [
    "The following function performs the 5-fold cross-validation on the model and outputs the average $MSE$ of the Random Forest for every value of $B$ inputted. The value chosen for the number of features is $\\approx \\frac{p}{3}$ where $p$ = the number of features in the dataset."
   ]
  },
  {
   "cell_type": "code",
   "execution_count": 19,
   "metadata": {},
   "outputs": [],
   "source": [
    "def cross_validation_score(X_train, y_train, folds, B):\n",
    "  scores = []\n",
    "  p = X_train.shape[1]\n",
    "  # Iterating over each fold\n",
    "  for val_indexes in folds:\n",
    "    val_indexes = list(val_indexes)\n",
    "    train_indexes = list(set(range(y_train.shape[0])) - set(val_indexes))\n",
    "    \n",
    "    # Establishing the training data for the cross-validation\n",
    "    X_train_i = X_train.iloc[train_indexes]\n",
    "    y_train_i = y_train[train_indexes]\n",
    "\n",
    "    # Establishing the testing data for the cross-validation\n",
    "    X_val_i = X_train.iloc[val_indexes]\n",
    "    y_val_i = y_train[val_indexes] \n",
    "\n",
    "    #Training model and error in its prediction of y_val_i using MSE\n",
    "    rf = train_rf(B, round(p/3), X_train_i, y_train_i, columns_dict)\n",
    "    y_hat_i = predict_rf(rf, X_val_i)\n",
    "\n",
    "    score_i = MSE(y_hat_i, y_val_i)\n",
    "    scores.append(score_i)\n",
    "\n",
    "  # Returns the average MSE\n",
    "  return sum(scores) / len(scores) \n"
   ]
  },
  {
   "cell_type": "code",
   "execution_count": 20,
   "metadata": {},
   "outputs": [],
   "source": [
    "# Finding the error between the model prediction and the actual values of y_test over a range of values of B\n",
    "def choose_best_B(X_train, y_train, folds, B_range):\n",
    "  B_scores = np.zeros((len(B_range),))\n",
    "\n",
    "  for i, B in enumerate(B_range):\n",
    "    B_scores[i] = cross_validation_score(X_train, y_train, folds, B)\n",
    "    print(f'MSE@k={B}: {B_scores[i]}')\n",
    "\n",
    "  best_k_index = np.argmin(B_scores)\n",
    "  return B_range[best_k_index]"
   ]
  },
  {
   "cell_type": "code",
   "execution_count": 21,
   "metadata": {},
   "outputs": [
    {
     "name": "stdout",
     "output_type": "stream",
     "text": [
      "MSE@k=25: 6743.224358764479\n",
      "best_k: 25\n"
     ]
    }
   ],
   "source": [
    "# Splitting the training data in 5 to perform 5-fold cross-validation to find best value of B\n",
    "folds_indexes = np.array_split(np.arange(len(y_train)), 5)\n",
    "best_B = choose_best_B(X_train, y_train, folds_indexes, np.array([25]))\n",
    "\n",
    "print('best_k:', best_B)"
   ]
  },
  {
   "cell_type": "markdown",
   "metadata": {},
   "source": [
    "Turns out the best value of $B$ is $25$ out of checking values from $1$ to $30$. I say this here as the computation ran for over an hour and yes I waited. At least it wasn't 2 hours.\n",
    "The $MSE$ at $B = 25$ is `6802.21407009009` which is a significant improvement over using the Decision Tree."
   ]
  },
  {
   "cell_type": "code",
   "execution_count": 22,
   "metadata": {},
   "outputs": [
    {
     "data": {
      "text/plain": [
       "-0.008790298790450901"
      ]
     },
     "execution_count": 22,
     "metadata": {},
     "output_type": "execute_result"
    }
   ],
   "source": [
    "# Picking p/3 as an approximate for the number of features to choose\n",
    "p = round(X_train.shape[1]/3)\n",
    "\n",
    "# Predicting values of y_test and finding the error by using MSE\n",
    "rf = train_rf(25, p, X_train, y_train, columns_dict)\n",
    "y_pred = predict_rf(rf, X_test)\n",
    "r_squared(y_pred, y_test)"
   ]
  },
  {
   "cell_type": "markdown",
   "metadata": {},
   "source": [
    "It seems that the value of $R^2$ at $B= 25$ decreased in magnitude slightly, when comparing it to the Decision Tree, suggesting that the covariance between `y_pred` and `y_test` indeed decrease which is consistent with the findings of the $MSE$."
   ]
  },
  {
   "cell_type": "code",
   "execution_count": 23,
   "metadata": {},
   "outputs": [
    {
     "data": {
      "text/plain": [
       "5690.404257142857"
      ]
     },
     "execution_count": 23,
     "metadata": {},
     "output_type": "execute_result"
    }
   ],
   "source": [
    "# Picking an arbitrary fold to find a tree in the ensemble of B Decision Trees\n",
    "val_indexes = folds_indexes[1]\n",
    "train_indexes = list(set(range(y_train.shape[0])) - set(val_indexes))\n",
    "\n",
    "# Establishing the training data for the cross-validation\n",
    "X_train_i = X_train.iloc[train_indexes]\n",
    "y_train_i = y_train[train_indexes]\n",
    "\n",
    "# Establishing the testing data for the cross-validation\n",
    "X_val_i = X_train.iloc[val_indexes]\n",
    "y_val_i = y_train[val_indexes] \n",
    "\n",
    "# Training model and predicting values of \n",
    "rf_sub = train_rf(25, round(p/3), X_train_i, y_train_i, columns_dict)\n",
    "y_hat_i = predict_rf(rf, X_val_i)\n",
    "\n",
    "MSE(y_hat_i, y_val_i)"
   ]
  },
  {
   "cell_type": "markdown",
   "metadata": {
    "id": "lEwNJHHTMgNG"
   },
   "source": [
    "<a name=\"task-113\"></a>\n",
    "\n",
    "### (1.1.3) [(index)](#index-task-113)"
   ]
  },
  {
   "cell_type": "code",
   "execution_count": 24,
   "metadata": {},
   "outputs": [],
   "source": [
    "def cv_score_depth_leaf(X_train, y_train, folds, B, max_depth, min_samples_leaf):\n",
    "  scores = []\n",
    "  p = X_train.shape[1]\n",
    "  # Iterating over each fold\n",
    "  for val_indexes in folds:\n",
    "    val_indexes = list(val_indexes)\n",
    "    train_indexes = list(set(range(y_train.shape[0])) - set(val_indexes))\n",
    "    \n",
    "    # Establishing the training data for the cross-validation\n",
    "    X_train_i = X_train.iloc[train_indexes]\n",
    "    y_train_i = y_train[train_indexes]\n",
    "\n",
    "    # Establishing the testing data for the cross-validation\n",
    "    X_val_i = X_train.iloc[val_indexes]\n",
    "    y_val_i = y_train[val_indexes] \n",
    "\n",
    "    #Training model and error in its prediction of y_val_i using MSE\n",
    "    rf = train_rf(B, round(p/3), X_train_i, y_train_i, columns_dict, max_depth= max_depth, min_samples_leaf= min_samples_leaf)\n",
    "    y_hat_i = predict_rf(rf, X_val_i)\n",
    "\n",
    "    score_i = MSE(y_hat_i, y_val_i)\n",
    "    scores.append(score_i)\n",
    "\n",
    "  # Returns the average MSE\n",
    "  return sum(scores) / len(scores) "
   ]
  },
  {
   "cell_type": "code",
   "execution_count": 25,
   "metadata": {},
   "outputs": [],
   "source": [
    "# Finding the error between the model prediction and the actual values of y_test over a range of values of B\n",
    "\n",
    "def best_depth_leaf(X_train, y_train, folds, max_depth_range, min_samples_leaf_range):\n",
    "  depth_leaf_scores = np.zeros((len(max_depth_range), len(min_samples_leaf_range)))\n",
    "\n",
    "  for i, max_depth in enumerate(max_depth_range):\n",
    "    for j, min_samples_leaf in enumerate(min_samples_leaf_range):\n",
    "        depth_leaf_scores[i, j] = cv_score_depth_leaf(X_train, y_train, folds, 25, max_depth = max_depth , min_samples_leaf = min_samples_leaf)\n",
    "\n",
    "  min_array_index = np.argmin(depth_leaf_scores)\n",
    "  min_index_ij = np.unravel_index(min_array_index, depth_leaf_scores.shape)\n",
    "  return max_depth_range[min_index_ij[0]], min_samples_leaf_range[min_index_ij[1]]"
   ]
  },
  {
   "cell_type": "code",
   "execution_count": 26,
   "metadata": {},
   "outputs": [
    {
     "data": {
      "text/plain": [
       "(4, 4)"
      ]
     },
     "execution_count": 26,
     "metadata": {},
     "output_type": "execute_result"
    }
   ],
   "source": [
    "best_depth_leaf(X_train, y_train, folds_indexes, np.arange(1,5), np.arange(1,5))"
   ]
  },
  {
   "cell_type": "markdown",
   "metadata": {
    "id": "GqN02H_YPwr0"
   },
   "source": [
    "\n",
    "\n",
    "---\n",
    "\n"
   ]
  },
  {
   "cell_type": "markdown",
   "metadata": {
    "id": "In8XkuW_MgVV"
   },
   "source": [
    "<a name=\"task-12\"></a>\n",
    "\n",
    "## (1.2) Multi-layer Perceptron [(index)](#index-task-12)"
   ]
  },
  {
   "cell_type": "markdown",
   "metadata": {},
   "source": [
    "<a name=\"task-121\"></a>\n",
    "\n",
    "### (1.2.1) [(index)](#index-task-121)"
   ]
  },
  {
   "cell_type": "markdown",
   "metadata": {},
   "source": [
    "Starting with the construction of the network, I assume that each layer is fully connected with one another."
   ]
  },
  {
   "cell_type": "code",
   "execution_count": 27,
   "metadata": {},
   "outputs": [],
   "source": [
    "def dense(X, W, b):\n",
    "    \"\"\"Full-connected MLP layer.\n",
    "\n",
    "    Parameters:\n",
    "        X (np.ndarray): K x h_in array of inputs, where K is the batch size and h_in if the input features dimension.\n",
    "        W (np.ndarray): h_out x h_in array for kernel matrix parametersm, where h_out is the output dimension.\n",
    "        b (np.ndarray): Length h_out 1-D array for bias parameters\n",
    "\n",
    "    Returns:\n",
    "        a (np.ndarray): K x h_out array of pre-activations\n",
    "    \"\"\"\n",
    "    a = np.vstack([W @ x + b for x in X]) \n",
    "    return a"
   ]
  },
  {
   "cell_type": "markdown",
   "metadata": {},
   "source": [
    "Now we need to define the activation function for the model, which will be: \n",
    "$$ \\sigma(x) = tan^{-1}(x)ln(|x| + 1) $$"
   ]
  },
  {
   "cell_type": "code",
   "execution_count": 28,
   "metadata": {},
   "outputs": [],
   "source": [
    "def relu_activation(a):\n",
    "    \"\"\"ReLU activation function.\n",
    "\n",
    "    Parameters:\n",
    "        a: K x h_out array of pre-activations\n",
    "\n",
    "    Returns:\n",
    "        h: K x h_out array of post-activations\n",
    "    \"\"\"\n",
    "    # computes post-activations\n",
    "    h = np.arctan(a) * np.log(np.abs(a) + 1)\n",
    "    return h"
   ]
  },
  {
   "cell_type": "markdown",
   "metadata": {},
   "source": [
    "The gradient of the activation function will be needed later for running 300 epochs of the MLP. Which will be:\n",
    "\n",
    "$$ \\sigma'(x) = \\frac{ln(|x|+1)}{x^2 + 1} + sgn(x)\\frac{tan^{-1}(x)}{|x| + 1}$$\n",
    "\n",
    "where, \n",
    "\n",
    "\\begin{equation*}\n",
    "sgn(x) = \\begin{cases}\n",
    "1 & \\quad x \\ge 0, \\\\\n",
    "-1 & \\quad x < 0.\n",
    "\\end{cases}\n",
    "\\end{equation*}"
   ]
  },
  {
   "cell_type": "code",
   "execution_count": 29,
   "metadata": {},
   "outputs": [],
   "source": [
    "def grad_relu_activation(a):\n",
    "    \"\"\"Gradient of ReLU activation function.\n",
    "\n",
    "    Parameters:\n",
    "        a: K x h_out array of pre-activations\n",
    "\n",
    "    Returns:\n",
    "        grad: K x h_out gradient array of post-activations\n",
    "    \"\"\"\n",
    "    # computes gradient\n",
    "    grad = np.log(np.abs(a) + 1)/(1 + a**2) + np.arctan(a)*np.sign(a)/(np.abs(a) + 1) \n",
    "    return grad"
   ]
  },
  {
   "cell_type": "markdown",
   "metadata": {},
   "source": [
    "The dictionary `activation_table` will be used as a reference in the class `MLP` to know which activation function to use in each layer.\n",
    "\n",
    "The class `MLP` will be how the 3-layer perceptron will be defined."
   ]
  },
  {
   "cell_type": "code",
   "execution_count": 30,
   "metadata": {},
   "outputs": [],
   "source": [
    "activation_table = {\n",
    "    \"relu\": relu_activation,\n",
    "    # Identity function.\n",
    "    \"identity\": lambda x: x\n",
    "}\n",
    "\n",
    "# A lookup table for gradient of activation functions by their names.\n",
    "grad_activation_table = {\n",
    "    \"relu\": grad_relu_activation,\n",
    "    # Identity function gradient.\n",
    "    \"identity\": lambda x: np.ones_like(x)\n",
    "}\n",
    "\n",
    "\n",
    "class MLP:\n",
    "    \"\"\"\n",
    "    This class represents a Multi-Layer Perceptron (MLP), that we are going\n",
    "    to use to encapsulate two components:\n",
    "        1. layers: the sequence of layers, where each layer is stored in\n",
    "            a dictionary in the format {\"W\": np.ndarray, \"b\": np.ndarray},\n",
    "            where \"W\" points to the weights array, and \"b\" points to\n",
    "            the bias vector.\n",
    "        2. rng: a pseudo random number generator (RNG) initialised to generate\n",
    "            the random weights in a reproducible manner between different\n",
    "            runtime sessions.\n",
    "    This class is also shipped with methods that perform essential operations\n",
    "    with a MLP, including:\n",
    "        - add_layers: which creates a new layer with specified dimensions.\n",
    "        - predict: applies the MLP forward pass to make predictions and produces\n",
    "            a computational graph for the forward pass that can be used to\n",
    "            compute gradients using backpropagation algorithm.\n",
    "        in addition to other light functions that return simple statistics about\n",
    "        the MLP.\n",
    "    \"\"\"\n",
    "    def __init__(self, seed=42):\n",
    "        self.layers = []\n",
    "        self.rng = np.random.default_rng(seed)\n",
    "\n",
    "    def n_parameters(self):\n",
    "        \"\"\"Return the total number of parameters of weights and biases.\"\"\"\n",
    "        return sum(l[\"b\"].size + l[\"W\"].size for l in self.layers)\n",
    "\n",
    "    def n_layers(self):\n",
    "        \"\"\"Return current number of MLP layers.\"\"\"\n",
    "        return len(self.layers)\n",
    "\n",
    "    def layer_dim(self, index):\n",
    "        \"\"\"Retrieve the dimensions of the MLP layer at `index`.\"\"\"\n",
    "        return self.layers[index][\"W\"].shape\n",
    "\n",
    "    def add_layer(self, in_dim, out_dim, activation=\"identity\"):\n",
    "        \"\"\"Add fully connected layer to MLP.\n",
    "\n",
    "        Parameters:\n",
    "            in_dim (int): The output dimension of the layer.\n",
    "            out_dim (int): The input dimension of the layer.\n",
    "            activation (str): The activation function name.\n",
    "        \"\"\"\n",
    "        # check if input-dimension matches output-dimension of previous layer\n",
    "        if self.n_layers() > 0:\n",
    "            last_out_dim, _ = self.layer_dim(-1)\n",
    "            assert in_dim == last_out_dim, f\"Input-dimension {in_dim} does not match output-dimension {last_out_dim} of previous layer.\"\n",
    "\n",
    "        # the first layer, in our convention illustrated, does not apply activation on the input features X.\n",
    "        if self.n_layers() == 0:\n",
    "            assert activation == \"identity\", \"Should not apply activations on the input features X, use Identity function for the first layer.\"\n",
    "\n",
    "\n",
    "        # store each layer as a dictionary in the list, as shown in the\n",
    "        # attached diagram.\n",
    "        self.layers.append({\n",
    "            # only for debugging.\n",
    "            \"index\": len(self.layers),\n",
    "            # apply Glorot initialisation for weights.\n",
    "            \"W\": self.rng.normal(size=(out_dim, in_dim)) * np.sqrt(2. / (in_dim + out_dim)),\n",
    "            # initialise bias vector with zeros.\n",
    "            \"b\": np.zeros(out_dim), \n",
    "            # store the activation function (as string)\n",
    "            \"activation\": activation\n",
    "        })\n",
    "\n",
    "    def predict(self, X):\n",
    "        \"\"\"Apply the forward pass on the input X and produce prediction and the\n",
    "        forward computation graph.\n",
    "\n",
    "        Parameters:\n",
    "            X (np.ndarray): Feature matrix.\n",
    "\n",
    "        Returns:\n",
    "            (np.ndarray, List[Dict[str, np.ndarray]]): A tuple of the\n",
    "            predictions and the computation graph as a sequence of intermediate\n",
    "            values through the MLP, specifically each layer will have a corresponding\n",
    "            intermediate values {\"a\": np.ndarray, \"h\": np.ndarray}, as shown in the\n",
    "            attached diagram above.\n",
    "        \"\"\"\n",
    "        # We assume that we work with a batch of examples (ndim==2).\n",
    "        if X.ndim == 1:\n",
    "            # If one example passed, add a dummy dimension for the batch.\n",
    "            X = X.reshape(1, -1)\n",
    "\n",
    "        # store pre- and post-activations in list\n",
    "        forward_pass = [{\"index\": 0, \"a\": X, \"h\": X}]\n",
    "\n",
    "        # iterate through hidden layers\n",
    "        for k in range(1, len(self.layers)):\n",
    "            # compute pre-activations\n",
    "            a = dense(forward_pass[k - 1][\"h\"], self.layers[k - 1][\"W\"], self.layers[k - 1][\"b\"])\n",
    "            activation = activation_table[self.layers[k][\"activation\"]] \n",
    "            forward_pass.append({\"index\": k, \"a\" : a, \"h\" : activation(a)}) \n",
    "\n",
    "        y_hat = dense(forward_pass[-1][\"h\"], self.layers[-1][\"W\"], self.layers[-1][\"b\"]) \n",
    "        # predicted target is output of last layer\n",
    "        return y_hat, forward_pass"
   ]
  },
  {
   "cell_type": "markdown",
   "metadata": {},
   "source": [
    "The loss function will be the mean squared error defined as:\n",
    "$$ \\mathcal{l}(\\hat{\\boldsymbol{y}}, \\boldsymbol{y}) = \\frac{1}{n}\\sum_{i=1}^{n} (\\hat{y}_i - y_i)^2, $$\n",
    "where $\\hat{\\boldsymbol{y}}$ is the vector of fitted values, $\\boldsymbol{y}$ is the vector of true values and $n$ is the dimension of the vector.\n",
    "\n",
    "In our case, the inputs will be one-dimensional."
   ]
  },
  {
   "cell_type": "code",
   "execution_count": 31,
   "metadata": {},
   "outputs": [],
   "source": [
    "def mse_loss(y_true, y_pred):\n",
    "    \"\"\"Compute MSE-loss\n",
    "\n",
    "    Parameters:\n",
    "        y_true: ground-truth array, with shape (K, )\n",
    "        y_pred: predictions array, with shape (K, )\n",
    "\n",
    "    Returns:\n",
    "        loss (float): MSE-loss\n",
    "    \"\"\"\n",
    "    assert y_true.size == y_pred.size, \"Ground-truth and predictions have different dimensions.\"\n",
    "\n",
    "    # Adjustment to avoid subtraction between (K,) and (1, K) arrays.\n",
    "    y_true = y_true.reshape(y_pred.shape)\n",
    "\n",
    "\n",
    "    return np.mean((y_true - y_pred)**2, keepdims=True) "
   ]
  },
  {
   "cell_type": "markdown",
   "metadata": {},
   "source": [
    "We also need \n",
    "$$\\nabla_{\\hat{\\boldsymbol{y}}}\\mathcal{l}(\\hat{\\boldsymbol{y}}, \\boldsymbol{y}) = \\frac{2}{n}(\\hat{\\boldsymbol{y}} - \\boldsymbol{y})$$"
   ]
  },
  {
   "cell_type": "code",
   "execution_count": 32,
   "metadata": {},
   "outputs": [],
   "source": [
    "def grad_mse_loss(y_true, y_pred):\n",
    "    \"\"\"Compute gradient of MSE-loss\n",
    "\n",
    "    Parameters:\n",
    "        y_true: ground-truth values, shape: (K, ).\n",
    "        y_pred: prediction values, shape: (K, ).\n",
    "\n",
    "    Returns:\n",
    "        grad (np.ndarray): Gradient of MSE-loss, shape: (K, ).\n",
    "    \"\"\"\n",
    "    # Adjustment to avoid subtraction between (K,) and (1, K) arrays.\n",
    "    y_true = y_true.reshape(y_pred.shape)\n",
    "\n",
    "    return 2.0 * (y_pred - y_true) / y_true.size "
   ]
  },
  {
   "cell_type": "markdown",
   "metadata": {},
   "source": [
    "We also need to define the backpropagation algorithm to complete the stochastic gradient descent algorithm on the MLP."
   ]
  },
  {
   "cell_type": "code",
   "execution_count": 33,
   "metadata": {},
   "outputs": [],
   "source": [
    "def backpropagate(layers, forward_pass, delta_output):\n",
    "    \"\"\"\n",
    "    Apply the backpropagation algorithm to the MLP layers to compute the gradients starting from\n",
    "    the output layer to the input layer, and starting the chain rule from the\n",
    "    partial derivative of the loss function w.r.t the predictions $\\hat{y}$. The\n",
    "\n",
    "    Parameters:\n",
    "        layers (List[Dict[str, np.ndarray]]): The MLP sequence of layers, as shown in the diagrams.\n",
    "        forward_pass (List[Dict[str, np.ndarray]]): The forward pass intermediate values for\n",
    "            each layer, representing a computation graph.\n",
    "        delta_output (np.ndarray): the partial derivative of the loss function w.r.t the\n",
    "            predictions $\\hat{y}$, has the shape (K, 1), where K is the batch size.\n",
    "    Returns:\n",
    "        (List[Dict[str, np.ndarray]]): The computed gradient using a structure symmetric the layers, as shown\n",
    "            in the diagrams.\n",
    "\n",
    "    \"\"\"\n",
    "    # Create a list that will contain the gradients of all the layers.\n",
    "    delta = delta_output\n",
    "\n",
    "    assert len(layers) == len(forward_pass), \"Number of layers is expected to match the number of forward pass layers\"\n",
    "\n",
    "    # Iterate on layers backwardly, from output to input.\n",
    "    # Calculate gradients w.r.t. weights and biases of each level and store in list of dictionaries.\n",
    "    gradients = []\n",
    "    for layer, forward_computes in reversed(list(zip(layers, forward_pass))):\n",
    "        assert forward_computes[\"index\"] == layer[\"index\"], \"Mismatch in the index.\"\n",
    "\n",
    "        h = forward_computes[\"h\"]\n",
    "        assert delta.shape[0] == h.shape[0], \"Mismatch in the batch dimension.\"\n",
    "\n",
    "\n",
    "        gradients.append({\"W\" : delta.T @ h, \n",
    "                          \"b\" : delta.sum(axis=0)}) \n",
    "\n",
    "        # Update the delta for the next iteration\n",
    "        grad_activation_f = grad_activation_table[layer[\"activation\"]]\n",
    "        grad_activation = grad_activation_f(forward_computes[\"a\"])\n",
    "\n",
    "        # Calculate the delta for the backward layer.\n",
    "        delta = np.stack([np.diag(gi) @ layer[\"W\"].T @ di\n",
    "                           for (gi, di) in zip(grad_activation, delta)]) \n",
    "\n",
    "\n",
    "    # Return now ordered list matching the layers.\n",
    "    return list(reversed(gradients))"
   ]
  },
  {
   "cell_type": "markdown",
   "metadata": {},
   "source": [
    "Need to implement the algorithm for the SGD step for a mini-batch."
   ]
  },
  {
   "cell_type": "code",
   "execution_count": 34,
   "metadata": {},
   "outputs": [],
   "source": [
    "def sgd_step(X, y, mlp, learning_rate = 1e-3):\n",
    "    \"\"\"\n",
    "    Apply a stochastic gradient descent step using the sampled batch.\n",
    "    Parameters:\n",
    "        X (np.ndarray): The input features array batch, with dimension (K, D).\n",
    "        y (np.ndarray): The ground-truth of the batch, with dimension (K, 1).\n",
    "        learning_rate (float): The learning rate multiplier for the update steps in SGD.\n",
    "    Returns:\n",
    "        (List[Dict[str, np.ndarray]]): The updated layers after applying SGD.\n",
    "    \"\"\"\n",
    "    # Compute the forward pass.\n",
    "    y_hat, forward_pass = mlp.predict(X) \n",
    "\n",
    "    # Compute the partial derivative of the loss w.r.t. to predictions `y_hat`.\n",
    "    delta_output = grad_mse_loss(y, y_hat)\n",
    "\n",
    "    # Apply backpropagation algorithm to compute the gradients of the MLP parameters.\n",
    "    gradients = backpropagate(mlp.layers, forward_pass, delta_output) \n",
    "\n",
    "    # mlp.layers and gradients are symmetric, as shown in the figure.\n",
    "    updated_layers = []\n",
    "    for layer, grad in zip(mlp.layers, gradients):\n",
    "        W = layer[\"W\"] - learning_rate * grad[\"W\"]\n",
    "        b = layer[\"b\"] - learning_rate * grad[\"b\"]\n",
    "        updated_layers.append({\"W\": W, \"b\": b,\n",
    "                               # keep the activation function.\n",
    "                               \"activation\": layer[\"activation\"],\n",
    "                               # We use the index for asserts and debugging purposes only.\n",
    "                               \"index\": layer[\"index\"]})\n",
    "    return updated_layers"
   ]
  },
  {
   "cell_type": "markdown",
   "metadata": {},
   "source": [
    "Will use the value of $R^2$ (along with the loss function) to determine performance of the model on the MLP."
   ]
  },
  {
   "cell_type": "code",
   "execution_count": 35,
   "metadata": {},
   "outputs": [],
   "source": [
    "def r2_score(y, y_hat):\n",
    "    \"\"\"R^2 score to assess regression performance.\"\"\"\n",
    "\n",
    "    # Adjustment to avoid subtraction between (K,) and (1, K) arrays.\n",
    "    y = y.reshape(y_hat.shape)\n",
    "    y_bar = y.mean()\n",
    "\n",
    "    ss_tot = ((y - y_bar)**2).sum()\n",
    "    ss_res = ((y - y_hat)**2).sum()\n",
    "    return 1 - (ss_res/ss_tot)"
   ]
  },
  {
   "cell_type": "markdown",
   "metadata": {},
   "source": [
    "Now we can put together everything to train the parameters of the MLP model using SGD."
   ]
  },
  {
   "cell_type": "code",
   "execution_count": 36,
   "metadata": {},
   "outputs": [],
   "source": [
    "def sgd(X_train, y_train, X_test, y_test, mlp, learning_rate = 1e-3,\n",
    "        n_epochs=10, minibatchsize=1, seed=42):\n",
    "    \"\"\"\n",
    "    Run the Stochastic Gradient Descent (SGD) algorithm to optimise the parameters of MLP model to fit it on\n",
    "    the training data using MSE loss.\n",
    "\n",
    "    Parameters:\n",
    "        X_train (np.ndarray): The training data features, with shape (|D_train|, D).\n",
    "        y_train (np.ndarray): The training data ground-truth, with shape (|D_train|, 1).\n",
    "        X_test (np.ndarray): The testing data features, with shape (|D_test|, D).\n",
    "        y_test (np.ndarray): The testing data ground-truth, with shape (|D_test|, 1).\n",
    "        mlp (MLP): The MLP object enacpsulating the MLP model.\n",
    "        learning_rate (float): The learning_rate multiplier used in updating the parameters at each iteration.\n",
    "        n_epochs (int): The number of training cycles that each covers the entire training examples.\n",
    "        minibatchsize (int): The batch size used in each SGD step.\n",
    "        seed (int): A seed for the RNG to ensure reproducibility across runtime sessions.\n",
    "    \"\"\"\n",
    "\n",
    "    # get random number generator\n",
    "    rng = np.random.default_rng(seed)\n",
    "\n",
    "    # compute number of iterations per epoch\n",
    "    n_iterations = int(len(y_train) / minibatchsize)\n",
    "\n",
    "    # store losses\n",
    "    losses_train = []\n",
    "    losses_test = []\n",
    "\n",
    "    epochs_bar = tqdm(range(n_epochs))\n",
    "    for i in epochs_bar:\n",
    "\n",
    "        # shuffle data\n",
    "        p = rng.permutation(len(y_train))\n",
    "        X_train_shuffled = X_train[p]\n",
    "        y_train_shuffled = y_train[p]\n",
    "\n",
    "        for j in range(n_iterations):\n",
    "            # get batch\n",
    "            X_batch = X_train_shuffled[j*minibatchsize : (j+1)*minibatchsize]\n",
    "            y_batch = y_train_shuffled[j*minibatchsize : (j+1)*minibatchsize]\n",
    "\n",
    "            # apply sgd step\n",
    "            updated_layers = sgd_step(X_batch, y_batch, mlp, learning_rate)\n",
    "\n",
    "            # update weights and biases of MLP\n",
    "            mlp.layers = updated_layers \n",
    "\n",
    "        # compute loss at the end of each epoch\n",
    "        y_hat_train, _ = mlp.predict(X_train)\n",
    "        losses_train.append(mse_loss(y_train, y_hat_train).squeeze())\n",
    "        y_hat_test, _ = mlp.predict(X_test)\n",
    "        losses_test.append(mse_loss(y_test, y_hat_test).squeeze())\n",
    "        epochs_bar.set_description(f'train_loss: {losses_train[-1]:.2f}, '\n",
    "                                   f'test_loss: {losses_test[-1]:.2f}, '\n",
    "                                   f'train_R^2: {r2_score(y_train, y_hat_train):.2f} '\n",
    "                                   f'test_R^2: {r2_score(y_test, y_hat_test):.2f} ')\n",
    "    return mlp, losses_train, losses_test\n"
   ]
  },
  {
   "cell_type": "markdown",
   "metadata": {},
   "source": [
    "Best to standardise the training data before applying and training the model.\n",
    "This is because of the SGD step of subtracting the gradient of the loss function.\n",
    "\n",
    "If the training data is unstandardised, then teh value of each component of the loss function gradient may contain values of significantly different magnitudes, leading to a disproportionate result at certain axes of the updated parameter."
   ]
  },
  {
   "cell_type": "code",
   "execution_count": 37,
   "metadata": {},
   "outputs": [],
   "source": [
    "def standardise(X, X_train_=None):\n",
    "    \"\"\"Standardise features.\n",
    "\n",
    "    Parameters:\n",
    "        X (np.array): Feature matrix.\n",
    "        X_train_ (np.array): An optional feature matrix to compute the statistics\n",
    "            from before applying it to X. If None, just use X to compute the statistics.\n",
    "\n",
    "    Returns:\n",
    "        X_std (np.array): Standardised feature matrix\n",
    "    \"\"\"\n",
    "    if X_train_ is None:\n",
    "        X_train_ = X\n",
    "\n",
    "    mu = np.mean(X_train_, axis=0, keepdims=True) \n",
    "    sigma = np.std(X_train_, axis=0, keepdims=True) \n",
    "    X_std = (X - mu) / sigma \n",
    "    return X_std"
   ]
  },
  {
   "cell_type": "markdown",
   "metadata": {},
   "source": [
    "Now we train the model on the training data and test it on the testing data."
   ]
  },
  {
   "cell_type": "code",
   "execution_count": 38,
   "metadata": {},
   "outputs": [
    {
     "name": "stdout",
     "output_type": "stream",
     "text": [
      "Number of layers: 4\n",
      "Number of trainable parameters: 5801\n"
     ]
    },
    {
     "data": {
      "application/vnd.jupyter.widget-view+json": {
       "model_id": "82c22ab659e74a6c96bfeb124edafce7",
       "version_major": 2,
       "version_minor": 0
      },
      "text/plain": [
       "  0%|          | 0/300 [00:00<?, ?it/s]"
      ]
     },
     "metadata": {},
     "output_type": "display_data"
    }
   ],
   "source": [
    "mlp = MLP(seed=2)\n",
    "mlp.add_layer(X_train.shape[1], 50)\n",
    "mlp.add_layer(50, 50, \"relu\")\n",
    "mlp.add_layer(50, 50, \"relu\")\n",
    "mlp.add_layer(50, 1, \"relu\")\n",
    "print(\"Number of layers:\",mlp.n_layers())\n",
    "print(\"Number of trainable parameters:\",mlp.n_parameters())\n",
    "\n",
    "Z_train = standardise(X_train.to_numpy())\n",
    "Z_test = standardise(X_test.to_numpy())\n",
    "\n",
    "u_train = standardise(y_train.to_numpy())\n",
    "u_test = standardise(y_test.to_numpy())\n",
    "\n",
    "n_epochs = 300\n",
    "mlp, losses_train, losses_test = sgd(Z_train, u_train, Z_test, u_test,\n",
    "                                     mlp, learning_rate = 5e-5,\n",
    "                                     n_epochs=n_epochs,\n",
    "                                     minibatchsize=8)"
   ]
  },
  {
   "cell_type": "markdown",
   "metadata": {},
   "source": [
    "We now plot the losses at each front and back propagation."
   ]
  },
  {
   "cell_type": "code",
   "execution_count": 39,
   "metadata": {},
   "outputs": [
    {
     "data": {
      "image/png": "[encoded data removed]",
      "text/plain": [
       "<Figure size 1200x800 with 1 Axes>"
      ]
     },
     "metadata": {},
     "output_type": "display_data"
    }
   ],
   "source": [
    "fig, ax = plt.subplots(figsize=(12, 8))\n",
    "ax.plot(np.arange(1,n_epochs+1),losses_train, label=\"Train\")\n",
    "ax.plot(np.arange(1,n_epochs+1),losses_test, label=\"Test\")\n",
    "ax.set(title=\"Losses vs Epochs\", xlabel = \"Epoch\", ylabel = \"MSE\")\n",
    "ax.legend()\n",
    "plt.show()"
   ]
  },
  {
   "cell_type": "markdown",
   "metadata": {},
   "source": [
    "As expected, the model becomes slightly more accurate for higher epochs, and you would also expect that the model would better fit the training data.\n",
    "\n",
    "It seems that the losses (mean squared error) converge to 0 for both lines which is what we want but it seems it would take a very long time for both lines, especially for the testing data, to reach 0.\n",
    "\n",
    "The training $R^2$ and the $R^2$ are not only similar but also very small. This is interesting but it perhaps might be to do with the size of the mini-batches. The greater the size, the closer it becomes to Batch Gradient Descent meaning that the value of $R^2$ for both types of data would be higher but with slower convergence."
   ]
  },
  {
   "cell_type": "markdown",
   "metadata": {
    "id": "5j1--gzeMgk9"
   },
   "source": [
    "<a name=\"task-122\"></a>\n",
    "\n",
    "### (1.2.2) [(index)](#index-task-122)"
   ]
  },
  {
   "cell_type": "markdown",
   "metadata": {},
   "source": [
    "To apply SDG with momentum we only need to make a few changes to certain functions, specifically `sdg_step` and `sdg`."
   ]
  },
  {
   "cell_type": "code",
   "execution_count": 40,
   "metadata": {},
   "outputs": [],
   "source": [
    "def sgd_mm_step(X, y, mlp, learning_rate = 1e-3, momentum = 0.4):\n",
    "    \"\"\"\n",
    "    Apply a stochastic gradient descent with momentum step using the sampled batch.\n",
    "    Parameters:\n",
    "        X (np.ndarray): The input features array batch, with dimension (K, D).\n",
    "        y (np.ndarray): The ground-truth of the batch, with dimension (K, 1).\n",
    "        learning_rate (float): The learning rate multiplier for the update steps in SGD.\n",
    "    Returns:\n",
    "        (List[Dict[str, np.ndarray]]): The updated layers after applying SGD.\n",
    "    \"\"\"\n",
    "    # Compute the forward pass.\n",
    "    y_hat, forward_pass = mlp.predict(X) \n",
    "\n",
    "    # Compute the partial derivative of the loss w.r.t. to predictions `y_hat`.\n",
    "    delta_output = grad_mse_loss(y, y_hat)\n",
    "    \n",
    "    # Apply backpropagation algorithm to compute the gradients of the MLP parameters.\n",
    "    gradients = backpropagate(mlp.layers, forward_pass, delta_output) \n",
    "    \n",
    "    # Initialise the velocities for the algorithm.\n",
    "    v_t_dict = [{'W': np.zeros_like(layer['W']), 'b': np.zeros_like(layer['b'])} for layer in mlp.layers]\n",
    "   \n",
    "    # mlp.layers and gradients are symmetric, as shown in the figure.\n",
    "    updated_layers = []\n",
    "    for v_t, layer, grad in zip(v_t_dict, mlp.layers, gradients):\n",
    "        v_t['W'] = momentum * v_t['W'] + learning_rate * grad['W']\n",
    "        v_t['b'] = momentum * v_t['b'] + learning_rate * grad['b']\n",
    "        W = layer[\"W\"] - v_t['W'] \n",
    "        b = layer[\"b\"] - v_t['b'] \n",
    "        updated_layers.append({\"W\": W, \"b\": b,\n",
    "                               # keep the activation function.\n",
    "                               \"activation\": layer[\"activation\"],\n",
    "                               # We use the index for asserts and debugging purposes only.\n",
    "                               \"index\": layer[\"index\"]})\n",
    "    return updated_layers"
   ]
  },
  {
   "cell_type": "code",
   "execution_count": 41,
   "metadata": {},
   "outputs": [],
   "source": [
    "def sgd_mm(X_train, y_train, X_test, y_test, mlp, learning_rate = 1e-3, momentum_rate = 0.4,\n",
    "        n_epochs=10, minibatchsize=1, seed=42):\n",
    "    \"\"\"\n",
    "    Run the Stochastic Gradient Descent with Momentum (SGDM) algorithm to optimise the parameters of MLP model to fit it on\n",
    "    the training data using MSE loss.\n",
    "\n",
    "    Parameters:\n",
    "        X_train (np.ndarray): The training data features, with shape (|D_train|, D).\n",
    "        y_train (np.ndarray): The training data ground-truth, with shape (|D_train|, 1).\n",
    "        X_test (np.ndarray): The testing data features, with shape (|D_test|, D).\n",
    "        y_test (np.ndarray): The testing data ground-truth, with shape (|D_test|, 1).\n",
    "        mlp (MLP): The MLP object enacpsulating the MLP model.\n",
    "        learning_rate (float): The learning_rate multiplier used in updating the parameters at each iteration.\n",
    "        momentum_rate (float): The momentum_rate multiplier used in updating the parameters at each iteration.\n",
    "        n_epochs (int): The number of training cycles that each covers the entire training examples.\n",
    "        minibatchsize (int): The batch size used in each SGD step.\n",
    "        seed (int): A seed for the RNG to ensure reproducibility across runtime sessions.\n",
    "    \"\"\"\n",
    "\n",
    "    # get random number generator\n",
    "    rng = np.random.default_rng(seed)\n",
    "\n",
    "    # compute number of iterations per epoch\n",
    "    n_iterations = int(len(y_train) / minibatchsize)\n",
    "\n",
    "    # store losses\n",
    "    losses_train = []\n",
    "    losses_test = []\n",
    "\n",
    "    epochs_bar = tqdm(range(n_epochs))\n",
    "    for i in epochs_bar:\n",
    "\n",
    "        # shuffle data\n",
    "        p = rng.permutation(len(y_train))\n",
    "        X_train_shuffled = X_train[p]\n",
    "        y_train_shuffled = y_train[p]\n",
    "\n",
    "        for j in range(n_iterations):\n",
    "            # get batch\n",
    "            X_batch = X_train_shuffled[j*minibatchsize : (j+1)*minibatchsize]\n",
    "            y_batch = y_train_shuffled[j*minibatchsize : (j+1)*minibatchsize]\n",
    "\n",
    "            # apply sgdm step\n",
    "            updated_layers = sgd_mm_step(X_batch, y_batch, mlp, learning_rate, momentum_rate) \n",
    "\n",
    "            # update weights and biases of MLP\n",
    "            mlp.layers = updated_layers \n",
    "\n",
    "        # compute loss at the end of each epoch\n",
    "        y_hat_train, _ = mlp.predict(X_train)\n",
    "        losses_train.append(mse_loss(y_train, y_hat_train).squeeze())\n",
    "        y_hat_test, _ = mlp.predict(X_test)\n",
    "        losses_test.append(mse_loss(y_test, y_hat_test).squeeze())\n",
    "        epochs_bar.set_description(f'train_loss: {losses_train[-1]:.2f}, '\n",
    "                                   f'test_loss: {losses_test[-1]:.2f}, '\n",
    "                                   f'train_R^2: {r2_score(y_train, y_hat_train):.2f} '\n",
    "                                   f'test_R^2: {r2_score(y_test, y_hat_test):.2f} ')\n",
    "    return mlp, losses_train, losses_test\n"
   ]
  },
  {
   "cell_type": "markdown",
   "metadata": {},
   "source": [
    "Now we train the model."
   ]
  },
  {
   "cell_type": "code",
   "execution_count": 42,
   "metadata": {},
   "outputs": [
    {
     "name": "stdout",
     "output_type": "stream",
     "text": [
      "Number of layers: 4\n",
      "Number of trainable parameters: 5801\n"
     ]
    },
    {
     "data": {
      "application/vnd.jupyter.widget-view+json": {
       "model_id": "ea5b523005d14a099f6d051e3d7a1072",
       "version_major": 2,
       "version_minor": 0
      },
      "text/plain": [
       "  0%|          | 0/300 [00:00<?, ?it/s]"
      ]
     },
     "metadata": {},
     "output_type": "display_data"
    }
   ],
   "source": [
    "mlp = MLP(seed=2)\n",
    "mlp.add_layer(X_train.shape[1], 50)\n",
    "mlp.add_layer(50, 50, \"relu\")\n",
    "mlp.add_layer(50, 50, \"relu\")\n",
    "mlp.add_layer(50, 1, \"relu\")\n",
    "print(\"Number of layers:\",mlp.n_layers())\n",
    "print(\"Number of trainable parameters:\",mlp.n_parameters())\n",
    "\n",
    "Z_train = standardise(X_train.to_numpy())\n",
    "Z_test = standardise(X_test.to_numpy())\n",
    "\n",
    "u_train = standardise(y_train.to_numpy())\n",
    "u_test = standardise(y_test.to_numpy())\n",
    "\n",
    "n_epochs = 300\n",
    "mlp, losses_train_mom, losses_test_mom = sgd_mm(Z_train, u_train, Z_test, u_test,\n",
    "                                     mlp, learning_rate = 5e-5, momentum_rate=0.4,\n",
    "                                     n_epochs=n_epochs,\n",
    "                                     minibatchsize=8)"
   ]
  },
  {
   "cell_type": "markdown",
   "metadata": {},
   "source": [
    "And then we plot the MSE for each model to compare their performance."
   ]
  },
  {
   "cell_type": "code",
   "execution_count": 43,
   "metadata": {},
   "outputs": [
    {
     "name": "stdout",
     "output_type": "stream",
     "text": [
      "True\n"
     ]
    },
    {
     "data": {
      "image/png": "[encoded data removed]",
      "text/plain": [
       "<Figure size 1200x800 with 1 Axes>"
      ]
     },
     "metadata": {},
     "output_type": "display_data"
    }
   ],
   "source": [
    "print(losses_test == losses_test_mom)\n",
    "fig, ax = plt.subplots(figsize=(12, 8))\n",
    "#ax.plot(np.arange(1,n_epochs+1),losses_test, label=\"Random Forest\")\n",
    "ax.plot(np.arange(1,n_epochs+1),losses_test, label=\"SGD\")\n",
    "ax.plot(np.arange(1,n_epochs+1),losses_test_mom, label=\"SGD w/ Momentum\")\n",
    "ax.set(xlabel = \"Epoch\", ylabel = \"MSE\")\n",
    "ax.legend()\n",
    "plt.show()"
   ]
  },
  {
   "cell_type": "markdown",
   "metadata": {
    "id": "2MccP5-sMgqU"
   },
   "source": [
    "<a name=\"task-123\"></a>\n",
    "\n",
    "### (1.2.3) [(index)](#index-task-123)"
   ]
  },
  {
   "cell_type": "markdown",
   "metadata": {},
   "source": [
    "To apply the linear model to the quadratic basis of features we first need to create the matrix of interaction features which I will refer to as `X_prime_train`."
   ]
  },
  {
   "cell_type": "code",
   "execution_count": 44,
   "metadata": {},
   "outputs": [],
   "source": [
    "def add_interaction_terms(X):\n",
    "    \"\"\"\n",
    "        Input:\n",
    "            X: an nxm np matrix with columns representing the features\n",
    "        Returns:\n",
    "            X': a matrix of interaction terms/features as columns\n",
    "    \"\"\"\n",
    "    X_t_prime = []\n",
    "    X_t_list = X.T.tolist()\n",
    "    \n",
    "    for row_i in X_t_list:\n",
    "        for row_j in X_t_list:\n",
    "            X_t_prime.append(np.array(row_i) * np.array(row_j))\n",
    "            \n",
    "    return np.array(X_t_prime).T"
   ]
  },
  {
   "cell_type": "code",
   "execution_count": 45,
   "metadata": {},
   "outputs": [],
   "source": [
    "X_prime_train = add_interaction_terms(X_train.to_numpy())"
   ]
  },
  {
   "cell_type": "markdown",
   "metadata": {},
   "source": [
    "Now it's time to add functions that will determine the coefficients for the ridge regression linear model, $\\boldsymbol\\beta^{*}_{\\text{ridge}}$ which will be defined as:\n",
    "$$ \\boldsymbol\\beta^{*}_{\\text{ridge}} = (\\boldsymbol X^T\\boldsymbol X + \\lambda I)^{-1}\\boldsymbol X^T\\boldsymbol y \\, . $$\n",
    "where $\\lambda$ will the penalty term."
   ]
  },
  {
   "cell_type": "code",
   "execution_count": 46,
   "metadata": {},
   "outputs": [],
   "source": [
    "def ridge_estimate(X, y, penalty):\n",
    "\n",
    "    # X: N x D matrix of training inputs\n",
    "    # y: N x 1 vector of training targets/observations\n",
    "    # returns: maximum likelihood parameters (D x 1)\n",
    "\n",
    "    N, D = X.shape\n",
    "    I = np.identity(D)\n",
    "    beta_ridge = np.linalg.solve(X.T @ X - penalty * I, X.T @ y)\n",
    "    return beta_ridge"
   ]
  },
  {
   "cell_type": "code",
   "execution_count": 47,
   "metadata": {},
   "outputs": [],
   "source": [
    "def predict_with_estimate(X_test, beta):\n",
    "\n",
    "    # X_test: K x D matrix of test inputs\n",
    "    # beta: D x 1 vector of parameters\n",
    "    # returns: prediction of f(X_test); K x 1 vector\n",
    "\n",
    "    prediction = X_test @ beta \n",
    "\n",
    "    return prediction"
   ]
  },
  {
   "cell_type": "code",
   "execution_count": 48,
   "metadata": {},
   "outputs": [
    {
     "data": {
      "text/plain": [
       "<matplotlib.legend.Legend at 0x1ac5fcfb450>"
      ]
     },
     "execution_count": 48,
     "metadata": {},
     "output_type": "execute_result"
    },
    {
     "data": {
      "image/png": "[encoded data removed]",
      "text/plain": [
       "<Figure size 640x480 with 1 Axes>"
      ]
     },
     "metadata": {},
     "output_type": "display_data"
    }
   ],
   "source": [
    "betas = []\n",
    "predictions = []\n",
    "penalties = [1e-3, 1, 1e+3]\n",
    "for penalty in penalties:\n",
    "    beta_ml = ridge_estimate(X_prime_train, y_train, penalty)\n",
    "    betas.append(beta_ml)\n",
    "    prediction = predict_with_estimate(X_prime_train, beta_ml)\n",
    "    predictions.append(prediction)\n",
    "    \n",
    "predictions = np.array(predictions)\n",
    "for beta, penalty in zip(betas, penalties):\n",
    "    plt.hist(beta, bins = 30, density = True, label = f'λ = {penalty}')\n",
    "plt.legend()\n"
   ]
  },
  {
   "cell_type": "markdown",
   "metadata": {},
   "source": [
    "$\\boldsymbol\\beta^{*}_{\\text{ridge}}$  seems to Normally distributed for all three values of $\\lambda$ as we expected.\n",
    "\n",
    "It also seems that for each value of $\\lambda$, the distribution becomes less concentrated at $0$ as $\\lambda$ gets larger. \n",
    "\n",
    "Since we assume that $\\boldsymbol\\beta^{*}_{\\text{ridge}}$ is Normally distributed, this implies that larger values in $\\lambda$ lead to larger variances in the coefficients of the ridge linear regression.\n",
    "\n",
    "The variance of $\\boldsymbol\\beta^{*}_{\\text{ridge}}$ is $\\sigma^2(\\boldsymbol{X}^T\\boldsymbol{X}+\\lambda\\boldsymbol{I})^{-1}\\boldsymbol{X}^T\\boldsymbol{X}(\\boldsymbol{X}^T\\boldsymbol{X}+\\lambda\\boldsymbol{I})^{-1}$ so for small values of $\\lambda$ we would expect:\n",
    "$$ Var(\\boldsymbol\\beta^{*}_{\\text{ridge}}) \\approx \\sigma^2 (\\boldsymbol{X}^T\\boldsymbol{X})^{-1} $$\n",
    "and for larger values of $\\lambda$"
   ]
  },
  {
   "cell_type": "markdown",
   "metadata": {
    "id": "vzPd5qZZPzpM"
   },
   "source": [
    "\n",
    "\n",
    "---\n",
    "\n"
   ]
  },
  {
   "cell_type": "markdown",
   "metadata": {
    "id": "yJ1n70CNMguM"
   },
   "source": [
    "<a name=\"task-2\"></a>\n",
    "\n",
    "# (2) Task 2: Classification [(index)](#index-task-2)"
   ]
  },
  {
   "cell_type": "markdown",
   "metadata": {
    "id": "snlMZuPqMgxd"
   },
   "source": [
    "<a name=\"task-21\"></a>\n",
    "\n",
    "## (2.1) k-Nearest Neighbours [(index)](#index-task-21)"
   ]
  },
  {
   "cell_type": "markdown",
   "metadata": {
    "id": "qVwRifs5Mg0s"
   },
   "source": [
    "<a name=\"task-211\"></a>\n",
    "\n",
    "### (2.1.1) [(index)](#index-task-211)"
   ]
  },
  {
   "cell_type": "markdown",
   "metadata": {},
   "source": [
    "The goal is to train a kNN classifier of the tumour type, optimise the model and assess its performance.\n",
    "\n",
    "First we read the data and split it for training"
   ]
  },
  {
   "cell_type": "code",
   "execution_count": 49,
   "metadata": {},
   "outputs": [],
   "source": [
    "brain_cancer_samples = pd.read_csv('brain_cancer_samples.csv')\n",
    "brain_cancer_test = pd.read_csv('brain_cancer_test.csv')\n",
    "\n",
    "class_index = brain_cancer_samples.columns.get_loc('Class')\n",
    "\n",
    "X_train = brain_cancer_samples.iloc[:, :class_index].to_numpy()\n",
    "y_train = brain_cancer_samples.iloc[:, class_index].to_numpy()\n",
    "\n",
    "X_test = brain_cancer_test.iloc[:, :class_index].to_numpy()\n",
    "y_test = brain_cancer_test.iloc[:, class_index].to_numpy()"
   ]
  },
  {
   "cell_type": "markdown",
   "metadata": {},
   "source": [
    "Now we construct the function `predict` which will (hopefully) predict the class of each patient in `X_test`. \n",
    "Before doing that, we construct the function `euclidian_distance` as a metric, and the `k_neighbours` as the function that carries out the majority of the kNN algorithm."
   ]
  },
  {
   "cell_type": "code",
   "execution_count": 50,
   "metadata": {},
   "outputs": [],
   "source": [
    "def euclidian_distance(p, q):\n",
    "    return np.sqrt(np.sum((p-q)**2, axis=1)) "
   ]
  },
  {
   "cell_type": "code",
   "execution_count": 51,
   "metadata": {},
   "outputs": [],
   "source": [
    "def k_neighbours(X_train, X_test, k=5, return_distance=False):\n",
    "    n_neighbours = k\n",
    "    dist = []\n",
    "    neigh_ind = []\n",
    "\n",
    "    # computes distance from each point x_test in X_test to all points in X_train \n",
    "    point_dist = [euclidian_distance(x_test, X_train) for x_test in X_test] \n",
    "\n",
    "    # determines which k training points are closest to each test point\n",
    "    for row in point_dist:\n",
    "        enum_neigh = enumerate(row)\n",
    "        sorted_neigh = sorted(enum_neigh, key=lambda x: x[1])[:k]\n",
    "\n",
    "        ind_list = [tup[0] for tup in sorted_neigh]\n",
    "        dist_list = [tup[1] for tup in sorted_neigh]\n",
    "\n",
    "        dist.append(dist_list)\n",
    "        neigh_ind.append(ind_list)\n",
    "\n",
    "    # returns distances together with indices of k nearest neighbours\n",
    "    if return_distance:\n",
    "        return np.array(dist), np.array(neigh_ind)\n",
    "\n",
    "    return np.array(neigh_ind)"
   ]
  },
  {
   "cell_type": "code",
   "execution_count": 52,
   "metadata": {},
   "outputs": [],
   "source": [
    "def predict(X_train, y_train, X_test, k=5):\n",
    "    # each of the k neighbours contributes equally to the classification of any data point in X_test\n",
    "    neighbours = k_neighbours(X_train, X_test, k=k)\n",
    "    # counts number of occurences of label with np.bincount and choose the label that has most with np.argmax \n",
    "    y_pred = np.array([np.argmax(np.bincount(y_train[neighbour])) for neighbour in neighbours])\n",
    "\n",
    "    return y_pred"
   ]
  },
  {
   "cell_type": "markdown",
   "metadata": {},
   "source": [
    "Now we see what the predictions are."
   ]
  },
  {
   "cell_type": "code",
   "execution_count": 53,
   "metadata": {},
   "outputs": [
    {
     "data": {
      "text/plain": [
       "array([0, 1, 0, 1, 1, 1, 0, 1, 1, 1, 1, 1, 1, 1, 2, 1, 1, 1, 1, 0, 0, 0,\n",
       "       1, 0, 0, 0, 0, 2, 1, 1, 2, 1, 1, 0, 0, 1, 1, 0, 1, 1, 1, 1, 0, 1,\n",
       "       1, 1, 0, 1, 1, 1, 1, 0, 1, 1, 0, 1, 1, 1, 1, 1], dtype=int64)"
      ]
     },
     "execution_count": 53,
     "metadata": {},
     "output_type": "execute_result"
    }
   ],
   "source": [
    "y_pred = predict(X_train, y_train, X_test)\n",
    "y_pred"
   ]
  },
  {
   "cell_type": "markdown",
   "metadata": {},
   "source": [
    "Now we apply the 5-fold cross-validation on the kNN classifier.\n",
    "\n",
    "Using the `score` function as way of measuring loss, we take the average loss across each fold at a chosen $k$ value.\n",
    "\n",
    "The `score` function is defined to be $ \\frac{1}{n}\\sum_{i=1}^{n}{\\mathbb{1}(y_{pred_i} = y_{test_i})}$, where $y_{test}, y_{pred} \\in \\mathbb{R}^n$."
   ]
  },
  {
   "cell_type": "code",
   "execution_count": 54,
   "metadata": {},
   "outputs": [],
   "source": [
    "def score(X_train, y_train, X_test, y_test, k=5):\n",
    "    y_pred = predict(X_train, y_train, X_test, k=k)\n",
    "    return float(sum(y_pred==y_test))/ float(len(y_test))"
   ]
  },
  {
   "cell_type": "code",
   "execution_count": 55,
   "metadata": {},
   "outputs": [],
   "source": [
    "def cross_validation_score(X_train, y_train, folds, k):\n",
    "    scores = []\n",
    "    for i in range(len(folds)):\n",
    "        val_indexes = folds[i]\n",
    "        train_indexes = list(set(range(y_train.shape[0])) - set(val_indexes))\n",
    "\n",
    "        X_train_i = X_train[train_indexes, :]\n",
    "        y_train_i = y_train[train_indexes]\n",
    "\n",
    "\n",
    "        X_val_i = X_train[val_indexes, :] \n",
    "        y_val_i = y_train[val_indexes] \n",
    "\n",
    "        score_i = score(X_train_i, y_train_i, X_val_i, y_val_i, k=k) \n",
    "        scores.append(score_i)\n",
    "\n",
    "    # Returns the average score\n",
    "    return sum(scores) / len(scores) "
   ]
  },
  {
   "cell_type": "code",
   "execution_count": 56,
   "metadata": {},
   "outputs": [],
   "source": [
    "def choose_best_k(X_train, y_train, folds, k_range):\n",
    "    k_scores = np.zeros((len(k_range),))\n",
    "\n",
    "    for i, k in enumerate(k_range):\n",
    "        k_scores[i] = cross_validation_score(X_train, y_train, folds, k)\n",
    "        print(f'CV_ACC@k={k}: {k_scores[i]:.3f}')\n",
    "\n",
    "    best_k_index = np.argmax(k_scores)\n",
    "    return k_range[best_k_index]"
   ]
  },
  {
   "cell_type": "code",
   "execution_count": 57,
   "metadata": {},
   "outputs": [
    {
     "name": "stdout",
     "output_type": "stream",
     "text": [
      "CV_ACC@k=1: 0.531\n",
      "CV_ACC@k=2: 0.524\n",
      "CV_ACC@k=3: 0.531\n",
      "CV_ACC@k=4: 0.614\n",
      "CV_ACC@k=5: 0.572\n",
      "CV_ACC@k=6: 0.593\n",
      "CV_ACC@k=7: 0.572\n",
      "CV_ACC@k=8: 0.586\n",
      "CV_ACC@k=9: 0.510\n",
      "CV_ACC@k=10: 0.538\n",
      "CV_ACC@k=11: 0.510\n",
      "CV_ACC@k=12: 0.517\n",
      "CV_ACC@k=13: 0.503\n",
      "CV_ACC@k=14: 0.476\n",
      "CV_ACC@k=15: 0.490\n",
      "CV_ACC@k=16: 0.483\n",
      "CV_ACC@k=17: 0.476\n",
      "CV_ACC@k=18: 0.490\n",
      "CV_ACC@k=19: 0.503\n",
      "CV_ACC@k=20: 0.497\n",
      "CV_ACC@k=21: 0.497\n",
      "CV_ACC@k=22: 0.490\n",
      "CV_ACC@k=23: 0.490\n",
      "CV_ACC@k=24: 0.517\n",
      "CV_ACC@k=25: 0.524\n",
      "CV_ACC@k=26: 0.503\n",
      "CV_ACC@k=27: 0.490\n",
      "CV_ACC@k=28: 0.510\n",
      "CV_ACC@k=29: 0.531\n",
      "CV_ACC@k=30: 0.524\n",
      "best_k: 4\n"
     ]
    }
   ],
   "source": [
    "folds_indexes = np.split(np.arange(len(y_train)), 5)\n",
    "\n",
    "best_k = choose_best_k(X_train, y_train, folds_indexes, np.arange(1, 31))\n",
    "\n",
    "print('best_k:', best_k)"
   ]
  },
  {
   "cell_type": "markdown",
   "metadata": {},
   "source": [
    "We now know the best $k$ is 4 so for the next part let's first redefine `y_pred`."
   ]
  },
  {
   "cell_type": "code",
   "execution_count": 58,
   "metadata": {},
   "outputs": [
    {
     "data": {
      "text/plain": [
       "array([0, 1, 0, 1, 1, 1, 0, 1, 1, 1, 1, 1, 1, 1, 2, 1, 0, 1, 1, 0, 0, 0,\n",
       "       1, 0, 0, 0, 0, 2, 0, 0, 2, 0, 1, 0, 0, 1, 0, 0, 1, 1, 1, 1, 0, 0,\n",
       "       1, 1, 0, 1, 1, 1, 0, 0, 1, 1, 0, 1, 1, 1, 0, 1], dtype=int64)"
      ]
     },
     "execution_count": 58,
     "metadata": {},
     "output_type": "execute_result"
    }
   ],
   "source": [
    "y_pred = predict(X_train, y_train, X_test, k = 4)\n",
    "y_pred"
   ]
  },
  {
   "cell_type": "code",
   "execution_count": 59,
   "metadata": {},
   "outputs": [
    {
     "data": {
      "text/plain": [
       "2"
      ]
     },
     "execution_count": 59,
     "metadata": {},
     "output_type": "execute_result"
    }
   ],
   "source": [
    "freq_classes = {0: 0, 1:0, 2:0}\n",
    "for types in y_pred:\n",
    "    freq_classes[types] = freq_classes.get(types, 0) + 1\n",
    "minority_class = min(freq_classes, key = freq_classes.get)\n",
    "minority_class"
   ]
  },
  {
   "cell_type": "markdown",
   "metadata": {},
   "source": [
    "Now we want to assess the predictions.\n",
    "Let's first create the confusion matrix."
   ]
  },
  {
   "cell_type": "code",
   "execution_count": 60,
   "metadata": {},
   "outputs": [
    {
     "data": {
      "text/plain": [
       "[{'TP': 11, 'FP': 14, 'TN': 22, 'FN': 13},\n",
       " {'TP': 20, 'FP': 12, 'TN': 13, 'FN': 15},\n",
       " {'TP': 2, 'FP': 1, 'TN': 31, 'FN': 26}]"
      ]
     },
     "execution_count": 60,
     "metadata": {},
     "output_type": "execute_result"
    }
   ],
   "source": [
    "confusion_matrices = [{} for  i in range(len(freq_classes.keys()))]\n",
    "\n",
    "for i in freq_classes:\n",
    "    confusion_matrices[i]['TP'] = confusion_matrices[i].get('TP', 0)\n",
    "    confusion_matrices[i]['FP'] = confusion_matrices[i].get('FP', 0)\n",
    "    confusion_matrices[i]['TN'] = confusion_matrices[i].get('TN', 0)\n",
    "    confusion_matrices[i]['FN'] = confusion_matrices[i].get('FN', 0)\n",
    "    for prediction, truth in zip(y_pred, y_test):\n",
    "        if prediction == truth and prediction == i:\n",
    "            confusion_matrices[i]['TP'] = confusion_matrices[i].get('TP') + 1\n",
    "            \n",
    "        elif prediction != truth and prediction == i:\n",
    "            confusion_matrices[i]['FP'] = confusion_matrices[i].get('FP') + 1\n",
    "            \n",
    "        elif prediction == truth and prediction != i:\n",
    "            confusion_matrices[i]['TN'] = confusion_matrices[i].get('TN') + 1\n",
    "        \n",
    "        else:\n",
    "            confusion_matrices[i]['FN'] = confusion_matrices[i].get('FN') + 1\n",
    "\n",
    "confusion_matrices"
   ]
  },
  {
   "cell_type": "markdown",
   "metadata": {},
   "source": [
    "Below are functions used to define the six metrics."
   ]
  },
  {
   "cell_type": "code",
   "execution_count": 61,
   "metadata": {},
   "outputs": [],
   "source": [
    "def accuracy(confusion_matrices, average = 0):\n",
    "    \"\"\"\n",
    "        Input:\n",
    "            confusion_matrices (list): a list of confusion matrices which are stored as dictionaries\n",
    "            average (0 or 1): 0 for macro-average accuracy, 1 for micro-average accuracy\n",
    "            \n",
    "        Output:\n",
    "            accuracy (float): macro-average or micro-average accuracy depending on value of average.\n",
    "    \"\"\"\n",
    "    n = len(confusion_matrices)\n",
    "    \n",
    "    if average == 0: # for macro-average accuracy\n",
    "        \n",
    "        accuracies = []\n",
    "        \n",
    "        for i in range(n):\n",
    "            M = confusion_matrices[i]\n",
    "            accuracy = (M['TP'] + M['FN']) / (sum(M.values()))\n",
    "            accuracies.append(accuracy)\n",
    "            \n",
    "        return np.mean(accuracy)\n",
    "    \n",
    "    if average == 1: # for micro-average accuracy\n",
    "        \n",
    "        tp_total = sum([confusion_matrices[i]['TP'] for i in range(n)])\n",
    "        tn_total = sum([confusion_matrices[i]['TN'] for i in range(n)])\n",
    "        fp_total = sum([confusion_matrices[i]['FP'] for i in range(n)])\n",
    "        fn_total = sum([confusion_matrices[i]['FN'] for i in range(n)])\n",
    "        \n",
    "        totals = [tp_total, tn_total, fp_total, fn_total]\n",
    "        \n",
    "        return (tp_total + tn_total) / sum(totals)\n",
    "        "
   ]
  },
  {
   "cell_type": "code",
   "execution_count": 62,
   "metadata": {},
   "outputs": [],
   "source": [
    "def precision(confusion_matrices, average = 0):\n",
    "    \"\"\"\n",
    "        Input:\n",
    "            confusion_matrices (list): a list of confusion matrices which are stored as dictionaries\n",
    "            average (0 or 1): 0 for macro-average precision, 1 for micro-average precision\n",
    "            \n",
    "        Output:\n",
    "            accuracy (float): macro-average or micro-average precision depending on value of average.\n",
    "    \"\"\"\n",
    "    \n",
    "    n = len(confusion_matrices)\n",
    "    \n",
    "    if average == 0: # for macro-average precision\n",
    "        \n",
    "        precisions = []\n",
    "        \n",
    "        for i in range(n):\n",
    "            M = confusion_matrices[i]\n",
    "            precision = M['TP'] / (M['TP'] + M['FP'])\n",
    "            precisions.append(precision)\n",
    "            \n",
    "        return np.mean(precisions)\n",
    "    \n",
    "    if average == 1: # for micro-average precision\n",
    "        \n",
    "        tp_total = sum([confusion_matrices[i]['TP'] for i in range(n)])\n",
    "        fp_total = sum([confusion_matrices[i]['FP'] for i in range(n)])\n",
    "        \n",
    "        return tp_total / (tp_total + fp_total)\n",
    "    "
   ]
  },
  {
   "cell_type": "code",
   "execution_count": 63,
   "metadata": {},
   "outputs": [],
   "source": [
    "def class_weighted(confusion_matrices, a_or_p):\n",
    "    \"\"\"\n",
    "        Inputs:\n",
    "            confusion_matrices (list): a list of confusion matrices which are stored as dictionaries\n",
    "            a_or_p ('a' or 'p'): picks the type of average: accuracy or precision\n",
    "        Output:\n",
    "            class-weighted average precision or accuracy\n",
    "    \"\"\"\n",
    "    \n",
    "    n = len(confusion_matrices)\n",
    "    sum_of_classes = sum([sum(confusion_matrices[i].values()) for i in range(n)])\n",
    "    class_weights = {i: sum(confusion_matrices[i].values()) / sum_of_classes for i in range(n)}\n",
    "    \n",
    "    if a_or_p == 'a': # for class-weighted average accuracy\n",
    "        \n",
    "        accuracies = []\n",
    "        \n",
    "        for i in range(n):\n",
    "            M = confusion_matrices[i]\n",
    "            accuracy = (M['TP'] + M['FN']) / (sum(M.values()))\n",
    "            accuracies.append(accuracy)\n",
    "            \n",
    "        weighted_accuracies = [accuracy * class_weight for accuracy, class_weight in zip(accuracies, class_weights.values())]\n",
    "    \n",
    "        return np.mean(weighted_accuracies) \n",
    "\n",
    "    if a_or_p == 'p': # for class-weighted average accuracy\n",
    "        \n",
    "        precisions = []\n",
    "        \n",
    "        for i in range(n):\n",
    "            M = confusion_matrices[i]\n",
    "            precision = M['TP'] / (M['TP'] + M['FP'])\n",
    "            precisions.append(precision)\n",
    "        \n",
    "        weighted_precisions = [precision * class_weight for precision, class_weight in zip(precisions, class_weights.values())]\n",
    "        \n",
    "        return np.mean(weighted_precisions)"
   ]
  },
  {
   "cell_type": "code",
   "execution_count": 64,
   "metadata": {},
   "outputs": [
    {
     "name": "stdout",
     "output_type": "stream",
     "text": [
      "Macro-average accuracy:  0.4666666666666667\n",
      "Micro-average accuracy:  0.55\n",
      "Macro-average precision:  0.5772222222222222\n",
      "Micro-average precision:  0.55\n",
      "Class-weighted average accuracy:  0.16111111111111112\n",
      "Class-weighted average precision:  0.1924074074074074\n"
     ]
    }
   ],
   "source": [
    "print('Macro-average accuracy: ', accuracy(confusion_matrices, 0))\n",
    "print('Micro-average accuracy: ', accuracy(confusion_matrices, 1))\n",
    "print('Macro-average precision: ', precision(confusion_matrices, 0))\n",
    "print('Micro-average precision: ', precision(confusion_matrices, 1))\n",
    "print('Class-weighted average accuracy: ', class_weighted(confusion_matrices, 'a'))\n",
    "print('Class-weighted average precision: ', class_weighted(confusion_matrices, 'p'))"
   ]
  },
  {
   "cell_type": "markdown",
   "metadata": {},
   "source": [
    "The micro-average accuracy is greater than the macro-average accuracy however the macro-average precision is slightly greater than the micro-average precision and the class-weigthed averages is both low, implying that the model does not predict the minority class well.\n",
    "\n",
    "You can get that from inspection of the confusion matrix. The minority class is class 2. The amount of false negatives were high and the amount of true positive were low.\n",
    "Additionally, the amount of true negatives were high and amount of false positives were low.\n",
    "\n",
    "This implies that class 2 had too little significance when training the model, and the model opts for the other classes too often when it should be class 2 that should be opted. "
   ]
  },
  {
   "cell_type": "markdown",
   "metadata": {
    "id": "hrF3U23EMg3k"
   },
   "source": [
    "<a name=\"task-212\"></a>\n",
    "\n",
    "### (2.1.2) [(index)](#index-task-212)"
   ]
  },
  {
   "cell_type": "markdown",
   "metadata": {},
   "source": [
    "Since the model opts for the other classes too often, the idea is to weight the classes such that the minority class has more of a priority.\n",
    "\n",
    "I attempt to do this by weighting the classes by $1/p_i$ where $p_i$ is the proportion of class $i$ in the training dataset."
   ]
  },
  {
   "cell_type": "code",
   "execution_count": 65,
   "metadata": {},
   "outputs": [],
   "source": [
    "def k_weighted_neighbours(X_train, y_train, X_test, k=5, weight_parameter = 1, return_distance=False):\n",
    "    n_neighbours = k\n",
    "    dist = []\n",
    "    neigh_ind = []\n",
    "\n",
    "    # computes distance from each point x_test in X_test to all points in X_train \n",
    "    #point_dist = [euclidian_distance(x_test, X_train) for x_test in X_test] \n",
    "    # freq_classes is dictionary that contains the frequency of each class in the training dataset X_train\n",
    "    freq_classes = {0:0, 1:0, 2:0}\n",
    "    \n",
    "    for i, x_test in enumerate(X_test):\n",
    "        if y_train[i] == 0:\n",
    "            freq_classes[0] = freq_classes.get(0, 0) + 1\n",
    "        elif y_train[i] == 1:\n",
    "            freq_classes[1] = freq_classes.get(1, 0) + 1\n",
    "        else:\n",
    "            freq_classes[2] = freq_classes.get(2, 0) + 1\n",
    "            \n",
    "    ordered_classes = sorted(freq_classes.items(), key = lambda x: x[1])\n",
    "    \n",
    "    for i, (key, value) in enumerate(ordered_classes):\n",
    "        freq_classes[key] = 10**(len(ordered_classes) - i)\n",
    "    \n",
    "    point_dist = [euclidian_distance(x_test, X_train) / (freq_classes[y_train[i]]) for i, x_test in enumerate(X_test)] \n",
    "    \n",
    "    # determines which k training points are closest to each test point\n",
    "    for row in point_dist:\n",
    "        enum_neigh = enumerate(row)\n",
    "        sorted_neigh = sorted(enum_neigh, key=lambda x: x[1])[:k]\n",
    "\n",
    "        ind_list = [tup[0] for tup in sorted_neigh]\n",
    "        dist_list = [tup[1] for tup in sorted_neigh]\n",
    "\n",
    "        dist.append(dist_list)\n",
    "        neigh_ind.append(ind_list)\n",
    "\n",
    "    # returns distances together with indices of k nearest neighbours\n",
    "    if return_distance:\n",
    "        return np.array(dist), np.array(neigh_ind)\n",
    "\n",
    "    return np.array(neigh_ind)"
   ]
  },
  {
   "cell_type": "code",
   "execution_count": 66,
   "metadata": {},
   "outputs": [],
   "source": [
    "def predict_weighted(X_train, y_train, X_test, k=5):\n",
    "    # each of the k neighbours contributes equally to the classification of any data point in X_test\n",
    "    neighbours = k_weighted_neighbours(X_train, y_train, X_test, k=k)\n",
    "    # counts number of occurences of label with np.bincount and choose the label that has most with np.argmax \n",
    "    y_pred = np.array([np.argmax(np.bincount(y_train[neighbour])) for neighbour in neighbours]) \n",
    "\n",
    "    return y_pred"
   ]
  },
  {
   "cell_type": "markdown",
   "metadata": {},
   "source": [
    "I show the result below to explain what happens a bit later. When determining the performance of the weighted kNN using the same six metrics used before, I get the exact same values for each metric and the result below shows why.\n",
    "\n",
    "The attempted implementation of the weighting had no effect."
   ]
  },
  {
   "cell_type": "code",
   "execution_count": 67,
   "metadata": {},
   "outputs": [
    {
     "name": "stdout",
     "output_type": "stream",
     "text": [
      "[ True  True  True  True  True  True  True  True  True  True  True  True\n",
      "  True  True  True  True  True  True  True  True  True  True  True  True\n",
      "  True  True  True  True  True  True  True  True  True  True  True  True\n",
      "  True  True  True  True  True  True  True  True  True  True  True  True\n",
      "  True  True  True  True  True  True  True  True  True  True  True  True]\n",
      "[0 1 0 1 1 1 0 1 1 1 1 1 1 1 2 1 0 1 1 0 0 0 1 0 0 0 0 2 0 0 2 0 1 0 0 1 0\n",
      " 0 1 1 1 1 0 0 1 1 0 1 1 1 0 0 1 1 0 1 1 1 0 1]\n"
     ]
    }
   ],
   "source": [
    "y_pred_weighted = predict_weighted(X_train, y_train, X_test, k=4)\n",
    "print(y_pred_weighted == y_pred)\n",
    "print(y_pred_weighted)"
   ]
  },
  {
   "cell_type": "code",
   "execution_count": 68,
   "metadata": {},
   "outputs": [
    {
     "data": {
      "text/plain": [
       "[{'TP': 11, 'FP': 14, 'TN': 22, 'FN': 13},\n",
       " {'TP': 20, 'FP': 12, 'TN': 13, 'FN': 15},\n",
       " {'TP': 2, 'FP': 1, 'TN': 31, 'FN': 26}]"
      ]
     },
     "execution_count": 68,
     "metadata": {},
     "output_type": "execute_result"
    }
   ],
   "source": [
    "confusion_matrices = [{} for  i in range(len(freq_classes.keys()))]\n",
    "\n",
    "for i in freq_classes:\n",
    "    confusion_matrices[i]['TP'] = confusion_matrices[i].get('TP', 0)\n",
    "    confusion_matrices[i]['FP'] = confusion_matrices[i].get('FP', 0)\n",
    "    confusion_matrices[i]['TN'] = confusion_matrices[i].get('TN', 0)\n",
    "    confusion_matrices[i]['FN'] = confusion_matrices[i].get('FN', 0)\n",
    "    for prediction, truth in zip(y_pred_weighted, y_test):\n",
    "        if prediction == truth and prediction == i:\n",
    "            confusion_matrices[i]['TP'] = confusion_matrices[i].get('TP') + 1\n",
    "            \n",
    "        elif prediction != truth and prediction == i:\n",
    "            confusion_matrices[i]['FP'] = confusion_matrices[i].get('FP') + 1\n",
    "            \n",
    "        elif prediction == truth and prediction != i:\n",
    "            confusion_matrices[i]['TN'] = confusion_matrices[i].get('TN') + 1\n",
    "        \n",
    "        else:\n",
    "            confusion_matrices[i]['FN'] = confusion_matrices[i].get('FN') + 1\n",
    "\n",
    "confusion_matrices"
   ]
  },
  {
   "cell_type": "code",
   "execution_count": 69,
   "metadata": {},
   "outputs": [
    {
     "name": "stdout",
     "output_type": "stream",
     "text": [
      "Macro-average accuracy:  0.4666666666666667\n",
      "Micro-average accuracy:  0.55\n",
      "Macro-average precision:  0.5772222222222222\n",
      "Micro-average precision:  0.55\n",
      "Class-weighted average accuracy:  0.16111111111111112\n",
      "Class-weighted average precision:  0.1924074074074074\n"
     ]
    }
   ],
   "source": [
    "print('Macro-average accuracy: ', accuracy(confusion_matrices, 0))\n",
    "print('Micro-average accuracy: ', accuracy(confusion_matrices, 1))\n",
    "print('Macro-average precision: ', precision(confusion_matrices, 0))\n",
    "print('Micro-average precision: ', precision(confusion_matrices, 1))\n",
    "print('Class-weighted average accuracy: ', class_weighted(confusion_matrices, 'a'))\n",
    "print('Class-weighted average precision: ', class_weighted(confusion_matrices, 'p'))"
   ]
  },
  {
   "cell_type": "markdown",
   "metadata": {
    "id": "sIUs15tlMg9c"
   },
   "source": [
    "<a name=\"task-213\"></a>\n",
    "\n",
    "### (2.1.3) [(index)](#index-task-213)"
   ]
  },
  {
   "cell_type": "markdown",
   "metadata": {
    "id": "X6Zz2bcMP6Wk"
   },
   "source": [
    "\n",
    "\n",
    "---\n",
    "\n"
   ]
  },
  {
   "cell_type": "markdown",
   "metadata": {
    "id": "J0K6bbpHPUYE"
   },
   "source": [
    "<a name=\"task-22\"></a>\n",
    "\n",
    "## (2.2) Logistic regression vs kernel logistic regression [(index)](#index-task-22)"
   ]
  },
  {
   "cell_type": "markdown",
   "metadata": {
    "id": "4pVdpUHZP-oE"
   },
   "source": [
    "<a name=\"task-221\"></a>\n",
    "\n",
    "### (2.2.1) [(index)](#index-task-221)"
   ]
  },
  {
   "cell_type": "markdown",
   "metadata": {},
   "source": [
    "Need to extract the training and testing data that only belong to either class 1 or class 2."
   ]
  },
  {
   "cell_type": "code",
   "execution_count": 70,
   "metadata": {},
   "outputs": [],
   "source": [
    "X_log_train = []\n",
    "y_log_train = []\n",
    "\n",
    "for i, x, y in zip(range(len(y_train)), X_train, y_train):\n",
    "    if y == 1 or y == 2:\n",
    "        X_log_train.append(x)\n",
    "        y_log_train.append(y)\n",
    "       \n",
    "# the training data for logistic regression\n",
    "X_log_train = np.array(X_log_train)\n",
    "y_log_train = np.array(y_log_train)"
   ]
  },
  {
   "cell_type": "code",
   "execution_count": 71,
   "metadata": {},
   "outputs": [],
   "source": [
    "X_log_test = []\n",
    "y_log_test = []\n",
    "\n",
    "for i, x, y in zip(range(len(y_test)), X_test, y_test):\n",
    "    if y == 1 or y == 2:\n",
    "        X_log_test.append(x)\n",
    "        y_log_test.append(y)\n",
    "    else:\n",
    "        continue\n",
    "       \n",
    "# the training data for logistic regression\n",
    "X_log_test = np.array(X_log_test)\n",
    "y_log_test = np.array(y_log_test)"
   ]
  },
  {
   "cell_type": "code",
   "execution_count": 72,
   "metadata": {},
   "outputs": [],
   "source": [
    "# The sigmoid function\n",
    "def logistic(z):\n",
    "    return 1. / (1. + np.exp(-z))"
   ]
  },
  {
   "cell_type": "code",
   "execution_count": 73,
   "metadata": {},
   "outputs": [],
   "source": [
    "# sigmoid function where the input is the dot product of x with beta plus a constant beta0\n",
    "def predict_logistic(X, beta0, beta):\n",
    "    y_logistic = logistic(X @ beta + beta0) \n",
    "    return y_logistic.squeeze()"
   ]
  },
  {
   "cell_type": "code",
   "execution_count": 74,
   "metadata": {},
   "outputs": [],
   "source": [
    "# Used to initialise beta and beta0 both as vector of zeroes.\n",
    "def initialise(size):\n",
    "    beta = np.zeros((size, 1))\n",
    "    return beta"
   ]
  },
  {
   "cell_type": "code",
   "execution_count": 75,
   "metadata": {},
   "outputs": [],
   "source": [
    "# The function will be used to complete each step in the iteration of the gradient descent algorithm.\n",
    "def propagate(X, y, beta0, beta, penalty = 2.5e-3):\n",
    "    \"\"\"\n",
    "    Arguments:\n",
    "    X: Data of shape (N, p+1)\n",
    "    y: True label vector of size N\n",
    "    beta: Parameter vector, a numpy array of size p+1\n",
    "\n",
    "    Returns:\n",
    "    mean_loss: Mean sample loss for the negative log-likelihood\n",
    "    dbeta: Gradient of the mean sample loss with respect to beta\n",
    "\n",
    "    \"\"\"\n",
    "    y_log = predict_logistic(X, beta0, beta)\n",
    "\n",
    "    # Mean sample loss function\n",
    "    k = np.mean(y_log)\n",
    "    A = np.nan_to_num(np.log(y_log), nan = k, posinf = k, neginf = k)\n",
    "    B = np.nan_to_num(np.log(1 - y_log), nan = k, posinf = k, neginf = k)\n",
    "    \n",
    "    mean_loss = - np.mean(y * A + (1-y) * B) + (penalty/2) * np.sum(beta**2)\n",
    "\n",
    "    # Derivatives\n",
    "    dbeta0 = np.mean(y - y_log).reshape(-1, 1)\n",
    "    dbeta = np.mean(X.T * (y_log - y) + penalty * beta, axis=1).reshape(-1, 1) \n",
    "    \n",
    "    mean_loss = np.squeeze(mean_loss)\n",
    "  \n",
    "    # Store gradients in a dictionary\n",
    "    grads = {'dbeta0': dbeta0, 'dbeta': dbeta}\n",
    "  \n",
    "    return grads, mean_loss"
   ]
  },
  {
   "cell_type": "code",
   "execution_count": 76,
   "metadata": {},
   "outputs": [],
   "source": [
    "# Implements the gradient descent algorithm to calculate the 'best' beta\n",
    "def optimise(X, y, beta0, beta, num_iterations=1000, learning_rate=0.1, penalty = 2.5e-3 , print_loss=False):\n",
    "    \"\"\"\n",
    "    Arguments:\n",
    "    X: Data of shape (N, p+1)\n",
    "    y: True label vector of size N\n",
    "    beta: Parameter vector, a numpy array of size p+1\n",
    "    num_iterations: Number of iterations\n",
    "    learning_rate: Step size in updating procedure\n",
    "    print_loss: 'True' to print the mean loss every 100 iterations\n",
    "\n",
    "    Returns:\n",
    "    params: Dictionary containing the parameter vector beta\n",
    "    grads: Dictionary containing the gradient\n",
    "    mean_loss_history: List of all the mean loss values computed during the optimisation (can be used to plot the learning curve)\n",
    "\n",
    "    \"\"\"\n",
    "    mean_loss_history = []\n",
    "    \n",
    "    for i in range(int(num_iterations)):\n",
    "\n",
    "        # Calculating the loss and gradients \n",
    "        grads, mean_loss = propagate(X, y, beta0, beta, penalty)  \n",
    "      \n",
    "        # Retrieving derivatives from grads\n",
    "        dbeta0 = grads['dbeta0']\n",
    "        dbeta = grads['dbeta']\n",
    "      \n",
    "        # Updating procedure\n",
    "        beta0 = beta0 - learning_rate * dbeta0\n",
    "        beta = beta - learning_rate * dbeta  \n",
    "        \n",
    "        # Records the loss values\n",
    "        if i % 100 == 0:\n",
    "            mean_loss_history.append(mean_loss)\n",
    "      \n",
    "        # Printing the loss every 100 iterations\n",
    "        if print_loss and i % 100 == 0:\n",
    "            print ('Mean loss after iteration %i: %f' %(i, mean_loss))\n",
    "  \n",
    "    # Saving parameters and gradients in dictionary\n",
    "    params = {'beta0': beta0, 'beta': beta}\n",
    "    grads = {'dbeta0': dbeta0, 'dbeta': dbeta}\n",
    "  \n",
    "    return params, grads, mean_loss_history"
   ]
  },
  {
   "cell_type": "code",
   "execution_count": 77,
   "metadata": {},
   "outputs": [],
   "source": [
    "# Used to fit model\n",
    "def predict(X_test, beta0, beta):\n",
    "    \"\"\"\n",
    "    Arguments:\n",
    "    X_test: Test set of shape (N_test, p+1)\n",
    "    beta: Parameter vector, a numpy array of size p+1\n",
    "\n",
    "    Returns:\n",
    "    y_pred: Vector containing all binary predictions (0/1) for X_test\n",
    "    \n",
    "    \"\"\"\n",
    "    N_test = X_test.shape[0]\n",
    "    y_pred = np.zeros((N_test, 1))\n",
    "    beta0 = beta.reshape(X_test.shape[0], 1)\n",
    "    beta = beta.reshape(X_test.shape[1], 1)\n",
    "    \n",
    "    # Predicting the probabilities\n",
    "    y_log = predict_logistic(X_test, beta0, beta)\n",
    "  \n",
    "    y_pred = y_log.round().reshape(1, -1) \n",
    "  \n",
    "    return y_pred"
   ]
  },
  {
   "cell_type": "code",
   "execution_count": 78,
   "metadata": {},
   "outputs": [],
   "source": [
    "# Outputs the full information needed about how well the model fit and its parameters\n",
    "def model(X_train, y_train, X_test, y_test, num_iterations=2000, learning_rate=0.1, penalty = 2.5e-3, print_loss=False):\n",
    "    # Initialising parameters with zeros\n",
    "    beta0 = initialise(X_train.shape[0])\n",
    "    beta = initialise(X_train.shape[1])\n",
    "    \n",
    "    # Gradient descent\n",
    "    parameters, grads, mean_loss_history = optimise(X_train, y_train, beta0, beta, num_iterations, learning_rate, penalty, print_loss=print_loss)\n",
    "\n",
    "    # Retrieving parameter vector beta from dictionary 'parameters'\n",
    "    beta = parameters['beta']\n",
    "    beta0 = parameters['beta0']\n",
    "    \n",
    "    # Predicting test and training set examples\n",
    "    y_pred_test = predict(X_test, beta0, beta)\n",
    "    y_pred_train = predict(X_train, beta0, beta)\n",
    "\n",
    "    # Printing train/test accuracy\n",
    "    print('Training accuracy: {} %'.format(100 - np.mean(np.abs(y_pred_train - y_train)) * 100))\n",
    "    print('Test accuracy: {} %'.format(100 - np.mean(np.abs(y_pred_test - y_test)) * 100))\n",
    "\n",
    "    # Saving all the information\n",
    "    d = {'mean_loss_history': mean_loss_history, 'y_pred_test': y_pred_test, 'y_pred_train': y_pred_train, 'beta0': beta0, 'beta': beta, 'learning_rate': learning_rate, 'num_iterations': num_iterations}\n",
    "  \n",
    "    return d"
   ]
  },
  {
   "cell_type": "code",
   "execution_count": 79,
   "metadata": {},
   "outputs": [
    {
     "name": "stdout",
     "output_type": "stream",
     "text": [
      "Mean loss after iteration 0: 0.693147\n",
      "Mean loss after iteration 100: 22332561.071913\n",
      "Mean loss after iteration 200: 86043876.816782\n",
      "Mean loss after iteration 300: 188070729.639234\n",
      "Mean loss after iteration 400: 325521353.340383\n"
     ]
    },
    {
     "name": "stderr",
     "output_type": "stream",
     "text": [
      "C:\\Users\\liiba\\AppData\\Local\\Temp\\ipykernel_3108\\3643047207.py:19: RuntimeWarning: divide by zero encountered in log\n",
      "  B = np.nan_to_num(np.log(1 - y_log), nan = k, posinf = k, neginf = k)\n"
     ]
    },
    {
     "ename": "ValueError",
     "evalue": "cannot reshape array of size 11 into shape (42,1)",
     "output_type": "error",
     "traceback": [
      "\u001b[1;31m---------------------------------------------------------------------------\u001b[0m",
      "\u001b[1;31mValueError\u001b[0m                                Traceback (most recent call last)",
      "Cell \u001b[1;32mIn[79], line 1\u001b[0m\n\u001b[1;32m----> 1\u001b[0m d \u001b[38;5;241m=\u001b[39m model(X_log_train, y_log_train, X_log_test, y_log_test, num_iterations\u001b[38;5;241m=\u001b[39m\u001b[38;5;241m500\u001b[39m, learning_rate\u001b[38;5;241m=\u001b[39m\u001b[38;5;241m0.1\u001b[39m, penalty \u001b[38;5;241m=\u001b[39m \u001b[38;5;241m2.5e-3\u001b[39m, print_loss\u001b[38;5;241m=\u001b[39m\u001b[38;5;28;01mTrue\u001b[39;00m)\n",
      "Cell \u001b[1;32mIn[78], line 15\u001b[0m, in \u001b[0;36mmodel\u001b[1;34m(X_train, y_train, X_test, y_test, num_iterations, learning_rate, penalty, print_loss)\u001b[0m\n\u001b[0;32m     12\u001b[0m beta0 \u001b[38;5;241m=\u001b[39m parameters[\u001b[38;5;124m'\u001b[39m\u001b[38;5;124mbeta0\u001b[39m\u001b[38;5;124m'\u001b[39m]\n\u001b[0;32m     14\u001b[0m \u001b[38;5;66;03m# Predicting test and training set examples\u001b[39;00m\n\u001b[1;32m---> 15\u001b[0m y_pred_test \u001b[38;5;241m=\u001b[39m predict(X_test, beta0, beta)\n\u001b[0;32m     16\u001b[0m y_pred_train \u001b[38;5;241m=\u001b[39m predict(X_train, beta0, beta)\n\u001b[0;32m     18\u001b[0m \u001b[38;5;66;03m# Printing train/test accuracy\u001b[39;00m\n",
      "Cell \u001b[1;32mIn[77], line 14\u001b[0m, in \u001b[0;36mpredict\u001b[1;34m(X_test, beta0, beta)\u001b[0m\n\u001b[0;32m     12\u001b[0m N_test \u001b[38;5;241m=\u001b[39m X_test\u001b[38;5;241m.\u001b[39mshape[\u001b[38;5;241m0\u001b[39m]\n\u001b[0;32m     13\u001b[0m y_pred \u001b[38;5;241m=\u001b[39m np\u001b[38;5;241m.\u001b[39mzeros((N_test, \u001b[38;5;241m1\u001b[39m))\n\u001b[1;32m---> 14\u001b[0m beta0 \u001b[38;5;241m=\u001b[39m beta\u001b[38;5;241m.\u001b[39mreshape(X_test\u001b[38;5;241m.\u001b[39mshape[\u001b[38;5;241m0\u001b[39m], \u001b[38;5;241m1\u001b[39m)\n\u001b[0;32m     15\u001b[0m beta \u001b[38;5;241m=\u001b[39m beta\u001b[38;5;241m.\u001b[39mreshape(X_test\u001b[38;5;241m.\u001b[39mshape[\u001b[38;5;241m1\u001b[39m], \u001b[38;5;241m1\u001b[39m)\n\u001b[0;32m     17\u001b[0m \u001b[38;5;66;03m# Predicting the probabilities\u001b[39;00m\n",
      "\u001b[1;31mValueError\u001b[0m: cannot reshape array of size 11 into shape (42,1)"
     ]
    }
   ],
   "source": [
    "d = model(X_log_train, y_log_train, X_log_test, y_log_test, num_iterations=500, learning_rate=0.1, penalty = 2.5e-3, print_loss=True)"
   ]
  },
  {
   "cell_type": "markdown",
   "metadata": {},
   "source": [
    "The `nan` values come from the algorithm ran inside the `propagation` function.\n",
    "It happens specifically when calculating `np.log(y_log)` and `np.log(1 - y_log)`.\n",
    "This is because if at least one entry, in either one of the matrices, has a value of `inf` or `nan`, the mean loss will take it into the calculation and the output will be `inf` or `nan`.\n",
    "\n",
    "I attempted to work around this however it resulted in increasing mean loss which should not be happening."
   ]
  },
  {
   "cell_type": "code",
   "execution_count": 80,
   "metadata": {},
   "outputs": [
    {
     "ename": "NameError",
     "evalue": "name 'd' is not defined",
     "output_type": "error",
     "traceback": [
      "\u001b[1;31m---------------------------------------------------------------------------\u001b[0m",
      "\u001b[1;31mNameError\u001b[0m                                 Traceback (most recent call last)",
      "Cell \u001b[1;32mIn[80], line 1\u001b[0m\n\u001b[1;32m----> 1\u001b[0m loss_history \u001b[38;5;241m=\u001b[39m np\u001b[38;5;241m.\u001b[39msqueeze(d[\u001b[38;5;124m'\u001b[39m\u001b[38;5;124mmean_loss_history\u001b[39m\u001b[38;5;124m'\u001b[39m])\n\u001b[0;32m      2\u001b[0m plt\u001b[38;5;241m.\u001b[39mfigure(figsize\u001b[38;5;241m=\u001b[39m(\u001b[38;5;241m12\u001b[39m,\u001b[38;5;241m8\u001b[39m))\n\u001b[0;32m      3\u001b[0m plt\u001b[38;5;241m.\u001b[39mylabel(\u001b[38;5;124m'\u001b[39m\u001b[38;5;124mMean training loss\u001b[39m\u001b[38;5;124m'\u001b[39m)\n",
      "\u001b[1;31mNameError\u001b[0m: name 'd' is not defined"
     ]
    }
   ],
   "source": [
    "loss_history = np.squeeze(d['mean_loss_history'])\n",
    "plt.figure(figsize=(12,8))\n",
    "plt.ylabel('Mean training loss')\n",
    "plt.xlabel('Iterations (in hundreds)')\n",
    "plt.title('Learning curve for learning rate = ' + str(d['learning_rate']))\n",
    "plt.plot(loss_history);"
   ]
  },
  {
   "cell_type": "markdown",
   "metadata": {
    "id": "e_MkiUD4QB0k"
   },
   "source": [
    "<a name=\"task-222\"></a>\n",
    "\n",
    "### (2.2.2) [(index)](#index-task-222)"
   ]
  },
  {
   "cell_type": "markdown",
   "metadata": {},
   "source": [
    "Under the kernelised version of the logistic regression model from task $\\boldsymbol{2.2.1}$, the appropriate loss function will be:\n",
    "$$\n",
    "E_z(L) = -\\frac{1}{N} \\sum_{i=1}^{N} y^{(i)}logh_{\\boldsymbol{\\beta_z}, \\beta_0}(\\boldsymbol{z}^{(i)}) + (1 - y^{(i)})log(1 - h_{\\boldsymbol{\\beta_z}, \\beta_0}(\\boldsymbol{z}^{(i)})) + \\frac{1}{2}||\\boldsymbol{\\beta_z}||^2\n",
    "$$\n",
    "where\n",
    "$$\n",
    "\\begin{align*}\n",
    "\\boldsymbol{z}^{(i)} &= \\phi(\\boldsymbol{x^{(i)}}) \\\\\n",
    "\\boldsymbol{\\beta_{z}} &= \\phi(\\boldsymbol{\\beta}) \\\\\n",
    "\\end{align*}\n",
    "$$\n",
    "\n",
    "and $\\phi$ is a function such that $k(x, y) = \\phi(x)^T\\phi(y) = \\exp(-\\alpha ||x - y||_1)$. By this definition of $k$, $||\\boldsymbol{\\beta_z}||^2$ becomes $1$.\n",
    "\n",
    "Whether optimising the loss is a convex optimisation problem, we need to study the Hessian matrix of $E_z(L)$.\n",
    "\n",
    "The idea is that if $E_z(L)$ is itself not convex, then minimising it is not a convex optimisation problem. The eigenvalues of the Hessian matrix are positive if and only if the function $E_z(L)$ is concave.\n",
    "\n",
    "Before doing that let's define a few terms for simplicity:\n",
    "\n",
    "$$\n",
    "\\begin{align*}\n",
    "k_{\\boldsymbol{x^{(i)}}} &= k(\\boldsymbol{x^{(i)}}, \\boldsymbol{\\beta}) \\\\\n",
    "h_{\\boldsymbol{x^{(i)}}} &= h_{\\boldsymbol{\\beta_z}, \\beta_0}(\\boldsymbol{z}^{(i)})\n",
    "\\end{align*}\n",
    "$$\n",
    "\n",
    "Now we can start:\n",
    "\n",
    "$$\n",
    "\\begin{align*}\n",
    "\\left[ \\nabla_{\\boldsymbol{\\beta}}k_{\\boldsymbol{x^{(i)}}}\\right]_j &= \\frac{\\partial}{\\partial{\\beta_{j}}}k_{\\boldsymbol{x^{(i)}}} = k_{\\boldsymbol{x^{(i)}}}v_j^{(i)} \\\\\n",
    "\\left[ \\nabla_{\\boldsymbol{\\beta}} h_{\\boldsymbol{x^{(i)}}} \\right]_ j&= \\frac{\\partial}{\\partial{\\beta_{j}}}h_{\\boldsymbol{x^{(i)}}} = k_{\\boldsymbol{x^{(i)}}}\\left[h_{\\boldsymbol{x^{(i)}}}\\right]^2v_j^{(i)}\n",
    "\\end{align*}\n",
    "$$\n",
    "\n",
    "where $v_j^{(i)} = \\alpha \\, \\mathrm{sgn}(z_j^{(i)} - \\beta_j)$.\n",
    "Moreover, $x_j^{(i)}$ and $\\beta_j$ are the $j^{th}$ component of $\\boldsymbol{z}^{(i)}$ amd $\\boldsymbol{\\beta}$\n",
    "\n",
    "Now by plugging our results and after some cancellations:\n",
    "\n",
    "$$\n",
    "\\begin{align*}\n",
    "\\frac{\\partial}{\\partial{\\beta_j}}E_z(L) = \\frac{1}{N} \\sum_{i=1}^N \\frac{(1-y^{(i)}) k_{\\boldsymbol{x^{(i)}}} h_{\\boldsymbol{x^{(i)}}}}{1 - h_{\\boldsymbol{x^{(i)}}}}v_j^{(i)}\n",
    "\\end{align*}\n",
    "$$\n",
    "\n",
    "By now taking the second partial derivative with respect to $\\beta_j$ and $\\beta_k$:\n",
    "\n",
    "$$\n",
    "\\frac{\\partial^2}{\\partial{\\beta_j}\\partial{\\beta_k}}E_z(L) = -\\frac{1}{N}\\sum_{i=1}^{N} (1 - y^{(i)}) k_{\\boldsymbol{x^{(i)}}} h_{\\boldsymbol{x^{(i)}}} \\left[ k_{\\boldsymbol{x^{(i)}}} h_{\\boldsymbol{x^{(i)}}} - \\frac{1}{1 - h_{\\boldsymbol{x^{(i)}}}} \\right] v_j^{(i)} v_k^{(i)}\n",
    "$$\n",
    "\n",
    "Now we need to check the eigenvalues of the Hessian matrix."
   ]
  },
  {
   "cell_type": "code",
   "execution_count": 81,
   "metadata": {},
   "outputs": [],
   "source": [
    "def laplacian_kernel(x, y, alpha = 0.3):\n",
    "    return np.exp(-alpha*np.sum(np.abs(x-y)))"
   ]
  },
  {
   "cell_type": "code",
   "execution_count": 82,
   "metadata": {},
   "outputs": [],
   "source": [
    "k_x = []\n",
    "h_x = []\n",
    "\n",
    "def second_deriv_E(X, y, beta, alpha = 0.3):\n",
    "    \n",
    "    N = len(y)\n",
    "    beta0 = np.zeros(N)\n",
    "    \n",
    "    for i, x in enumerate(X.T):\n",
    "        k_x.append(laplacian_kernel(x, y))\n",
    "        h_x.append(predict_logistic(x, beta0, beta))\n",
    "    \n",
    "    def sgn(x):\n",
    "        if x > 0:\n",
    "            return 1\n",
    "        if x < 0:\n",
    "            return -1\n",
    "        else:\n",
    "            return 0\n",
    "    \n",
    "    d2_E = np.zeros((N,N))\n",
    "    summing = np.zeros(N)\n",
    "    \n",
    "    for j in range(N):\n",
    "        for k in range(N):\n",
    "            for i in range(N):\n",
    "                summing[i] = alpha*(1 - y[i])*k_x[i]*h_x[i]*(k_x[i]*h_x[i]-1/(1-h_x[i]))*alpha**2*sgn(X[j,i]- beta[j])*sgn(X[k,i] - beta[k])\n",
    "            d2_E[j,k] = -np.mean(summing)\n",
    "    \n",
    "    return d2_E"
   ]
  },
  {
   "cell_type": "code",
   "execution_count": 83,
   "metadata": {},
   "outputs": [
    {
     "name": "stderr",
     "output_type": "stream",
     "text": [
      "C:\\Users\\liiba\\AppData\\Local\\Temp\\ipykernel_3108\\3995097821.py:27: RuntimeWarning: divide by zero encountered in divide\n",
      "  summing[i] = alpha*(1 - y[i])*k_x[i]*h_x[i]*(k_x[i]*h_x[i]-1/(1-h_x[i]))*alpha**2*sgn(X[j,i]- beta[j])*sgn(X[k,i] - beta[k])\n",
      "C:\\Users\\liiba\\AppData\\Local\\Temp\\ipykernel_3108\\3995097821.py:27: RuntimeWarning: invalid value encountered in multiply\n",
      "  summing[i] = alpha*(1 - y[i])*k_x[i]*h_x[i]*(k_x[i]*h_x[i]-1/(1-h_x[i]))*alpha**2*sgn(X[j,i]- beta[j])*sgn(X[k,i] - beta[k])\n"
     ]
    },
    {
     "ename": "ValueError",
     "evalue": "setting an array element with a sequence.",
     "output_type": "error",
     "traceback": [
      "\u001b[1;31m---------------------------------------------------------------------------\u001b[0m",
      "\u001b[1;31mTypeError\u001b[0m                                 Traceback (most recent call last)",
      "\u001b[1;31mTypeError\u001b[0m: only size-1 arrays can be converted to Python scalars",
      "\nThe above exception was the direct cause of the following exception:\n",
      "\u001b[1;31mValueError\u001b[0m                                Traceback (most recent call last)",
      "Cell \u001b[1;32mIn[83], line 3\u001b[0m\n\u001b[0;32m      1\u001b[0m N \u001b[38;5;241m=\u001b[39m \u001b[38;5;28mlen\u001b[39m(y_train)\n\u001b[0;32m      2\u001b[0m beta \u001b[38;5;241m=\u001b[39m np\u001b[38;5;241m.\u001b[39mrandom\u001b[38;5;241m.\u001b[39mchoice(\u001b[38;5;241m10\u001b[39m, N)\n\u001b[1;32m----> 3\u001b[0m second_deriv_E(X_train, y_train, beta)\n",
      "Cell \u001b[1;32mIn[82], line 27\u001b[0m, in \u001b[0;36msecond_deriv_E\u001b[1;34m(X, y, beta, alpha)\u001b[0m\n\u001b[0;32m     25\u001b[0m     \u001b[38;5;28;01mfor\u001b[39;00m k \u001b[38;5;129;01min\u001b[39;00m \u001b[38;5;28mrange\u001b[39m(N):\n\u001b[0;32m     26\u001b[0m         \u001b[38;5;28;01mfor\u001b[39;00m i \u001b[38;5;129;01min\u001b[39;00m \u001b[38;5;28mrange\u001b[39m(N):\n\u001b[1;32m---> 27\u001b[0m             summing[i] \u001b[38;5;241m=\u001b[39m alpha\u001b[38;5;241m*\u001b[39m(\u001b[38;5;241m1\u001b[39m \u001b[38;5;241m-\u001b[39m y[i])\u001b[38;5;241m*\u001b[39mk_x[i]\u001b[38;5;241m*\u001b[39mh_x[i]\u001b[38;5;241m*\u001b[39m(k_x[i]\u001b[38;5;241m*\u001b[39mh_x[i]\u001b[38;5;241m-\u001b[39m\u001b[38;5;241m1\u001b[39m\u001b[38;5;241m/\u001b[39m(\u001b[38;5;241m1\u001b[39m\u001b[38;5;241m-\u001b[39mh_x[i]))\u001b[38;5;241m*\u001b[39malpha\u001b[38;5;241m*\u001b[39m\u001b[38;5;241m*\u001b[39m\u001b[38;5;241m2\u001b[39m\u001b[38;5;241m*\u001b[39msgn(X[j,i]\u001b[38;5;241m-\u001b[39m beta[j])\u001b[38;5;241m*\u001b[39msgn(X[k,i] \u001b[38;5;241m-\u001b[39m beta[k])\n\u001b[0;32m     28\u001b[0m         d2_E[j,k] \u001b[38;5;241m=\u001b[39m \u001b[38;5;241m-\u001b[39mnp\u001b[38;5;241m.\u001b[39mmean(summing)\n\u001b[0;32m     30\u001b[0m \u001b[38;5;28;01mreturn\u001b[39;00m d2_E\n",
      "\u001b[1;31mValueError\u001b[0m: setting an array element with a sequence."
     ]
    }
   ],
   "source": [
    "N = len(y_train)\n",
    "beta = np.random.choice(10, N)\n",
    "second_deriv_E(X_train, y_train, beta)"
   ]
  },
  {
   "cell_type": "markdown",
   "metadata": {
    "id": "DzUYT08xQDV9"
   },
   "source": [
    "<a name=\"task-223\"></a>\n",
    "\n",
    "### (2.2.3) [(index)](#index-task-223)"
   ]
  }
 ],
 "metadata": {
  "colab": {
   "provenance": [],
   "toc_visible": true
  },
  "kernelspec": {
   "display_name": "Python 3 (ipykernel)",
   "language": "python",
   "name": "python3"
  },
  "language_info": {
   "codemirror_mode": {
    "name": "ipython",
    "version": 3
   },
   "file_extension": ".py",
   "mimetype": "text/x-python",
   "name": "python",
   "nbconvert_exporter": "python",
   "pygments_lexer": "ipython3",
   "version": "3.11.5"
  }
 },
 "nbformat": 4,
 "nbformat_minor": 4
}
